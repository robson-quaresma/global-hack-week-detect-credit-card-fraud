{
 "cells": [
  {
   "cell_type": "markdown",
   "id": "ee546ca4",
   "metadata": {},
   "source": [
    "# Goal\n",
    "\n",
    "Prevent a credit card fraud: when a bad actor uses someone else's credit card information to make a purchase without their permission."
   ]
  },
  {
   "cell_type": "markdown",
   "id": "2b460e2f",
   "metadata": {},
   "source": [
    "**Columns**:\n",
    "- **distance_from_home** - the distance from home where the transaction happened.\n",
    "- **distance_from_last_transaction** - the distance from last transaction happened.\n",
    "- **ratio_to_median_purchase_price** - Ratio of purchased price transaction to median purchase price.\n",
    "- **repeat_retailer** - Is the transaction happened from same retailer.\n",
    "- **used_chip** - Is the transaction through chip (credit card).\n",
    "- **used_pin_number** - Is the transaction happened by using PIN number.\n",
    "- **online_order** - Is the transaction an online order.\n",
    "- **fraud** - Is the transaction fraudulent. This is what we're trying to predict."
   ]
  },
  {
   "cell_type": "markdown",
   "id": "ef31909f",
   "metadata": {},
   "source": [
    "# Imports"
   ]
  },
  {
   "cell_type": "markdown",
   "id": "2c094f6c",
   "metadata": {},
   "source": [
    "## libraries"
   ]
  },
  {
   "cell_type": "code",
   "execution_count": 62,
   "id": "5a730534",
   "metadata": {},
   "outputs": [],
   "source": [
    "import numpy as np\n",
    "import pandas as pd\n",
    "import matplotlib.pyplot as plt\n",
    "import seaborn as sns"
   ]
  },
  {
   "cell_type": "markdown",
   "id": "ef534a84",
   "metadata": {},
   "source": [
    "## data"
   ]
  },
  {
   "cell_type": "code",
   "execution_count": 63,
   "id": "8b5dfb27",
   "metadata": {},
   "outputs": [],
   "source": [
    "train = pd.read_csv(\"train.csv\")\n",
    "test = pd.read_csv(\"test.csv\")"
   ]
  },
  {
   "cell_type": "markdown",
   "id": "bb3b59a6",
   "metadata": {},
   "source": [
    "---"
   ]
  },
  {
   "cell_type": "markdown",
   "id": "61ca767f",
   "metadata": {},
   "source": [
    "# Exploratory Data Analysis "
   ]
  },
  {
   "cell_type": "markdown",
   "id": "5618572d",
   "metadata": {},
   "source": [
    "## General"
   ]
  },
  {
   "cell_type": "code",
   "execution_count": 64,
   "id": "80d4df73",
   "metadata": {},
   "outputs": [
    {
     "data": {
      "text/plain": [
       "((18000, 9), (2000, 8))"
      ]
     },
     "execution_count": 64,
     "metadata": {},
     "output_type": "execute_result"
    }
   ],
   "source": [
    "train.shape, test.shape"
   ]
  },
  {
   "cell_type": "code",
   "execution_count": 65,
   "id": "54c8cd9d",
   "metadata": {},
   "outputs": [
    {
     "data": {
      "text/plain": [
       "id                                0\n",
       "distance_from_home                0\n",
       "distance_from_last_transaction    0\n",
       "ratio_to_median_purchase_price    0\n",
       "repeat_retailer                   0\n",
       "used_chip                         0\n",
       "used_pin_number                   0\n",
       "online_order                      0\n",
       "fraud                             0\n",
       "dtype: int64"
      ]
     },
     "execution_count": 65,
     "metadata": {},
     "output_type": "execute_result"
    }
   ],
   "source": [
    "train.isnull().sum()"
   ]
  },
  {
   "cell_type": "code",
   "execution_count": 66,
   "id": "4ea6e4a0",
   "metadata": {},
   "outputs": [
    {
     "data": {
      "text/plain": [
       "id                                0\n",
       "distance_from_home                0\n",
       "distance_from_last_transaction    0\n",
       "ratio_to_median_purchase_price    0\n",
       "repeat_retailer                   0\n",
       "used_chip                         0\n",
       "used_pin_number                   0\n",
       "online_order                      0\n",
       "dtype: int64"
      ]
     },
     "execution_count": 66,
     "metadata": {},
     "output_type": "execute_result"
    }
   ],
   "source": [
    "test.isnull().sum()"
   ]
  },
  {
   "cell_type": "code",
   "execution_count": 67,
   "id": "886a345b",
   "metadata": {},
   "outputs": [
    {
     "data": {
      "text/html": [
       "<div>\n",
       "<style scoped>\n",
       "    .dataframe tbody tr th:only-of-type {\n",
       "        vertical-align: middle;\n",
       "    }\n",
       "\n",
       "    .dataframe tbody tr th {\n",
       "        vertical-align: top;\n",
       "    }\n",
       "\n",
       "    .dataframe thead th {\n",
       "        text-align: right;\n",
       "    }\n",
       "</style>\n",
       "<table border=\"1\" class=\"dataframe\">\n",
       "  <thead>\n",
       "    <tr style=\"text-align: right;\">\n",
       "      <th></th>\n",
       "      <th>id</th>\n",
       "      <th>distance_from_home</th>\n",
       "      <th>distance_from_last_transaction</th>\n",
       "      <th>ratio_to_median_purchase_price</th>\n",
       "      <th>repeat_retailer</th>\n",
       "      <th>used_chip</th>\n",
       "      <th>used_pin_number</th>\n",
       "      <th>online_order</th>\n",
       "      <th>fraud</th>\n",
       "    </tr>\n",
       "  </thead>\n",
       "  <tbody>\n",
       "    <tr>\n",
       "      <th>0</th>\n",
       "      <td>16979</td>\n",
       "      <td>3.346870</td>\n",
       "      <td>0.620101</td>\n",
       "      <td>0.945172</td>\n",
       "      <td>1.0</td>\n",
       "      <td>0.0</td>\n",
       "      <td>0.0</td>\n",
       "      <td>1.0</td>\n",
       "      <td>0</td>\n",
       "    </tr>\n",
       "    <tr>\n",
       "      <th>1</th>\n",
       "      <td>12430</td>\n",
       "      <td>14.482868</td>\n",
       "      <td>0.170185</td>\n",
       "      <td>1.084836</td>\n",
       "      <td>1.0</td>\n",
       "      <td>0.0</td>\n",
       "      <td>0.0</td>\n",
       "      <td>1.0</td>\n",
       "      <td>0</td>\n",
       "    </tr>\n",
       "    <tr>\n",
       "      <th>2</th>\n",
       "      <td>19872</td>\n",
       "      <td>5.740898</td>\n",
       "      <td>0.167525</td>\n",
       "      <td>3.969652</td>\n",
       "      <td>1.0</td>\n",
       "      <td>0.0</td>\n",
       "      <td>0.0</td>\n",
       "      <td>1.0</td>\n",
       "      <td>0</td>\n",
       "    </tr>\n",
       "    <tr>\n",
       "      <th>3</th>\n",
       "      <td>18763</td>\n",
       "      <td>4.098570</td>\n",
       "      <td>0.291850</td>\n",
       "      <td>0.084129</td>\n",
       "      <td>1.0</td>\n",
       "      <td>1.0</td>\n",
       "      <td>0.0</td>\n",
       "      <td>1.0</td>\n",
       "      <td>1</td>\n",
       "    </tr>\n",
       "    <tr>\n",
       "      <th>4</th>\n",
       "      <td>13547</td>\n",
       "      <td>7.539580</td>\n",
       "      <td>0.294439</td>\n",
       "      <td>2.890880</td>\n",
       "      <td>1.0</td>\n",
       "      <td>1.0</td>\n",
       "      <td>0.0</td>\n",
       "      <td>0.0</td>\n",
       "      <td>0</td>\n",
       "    </tr>\n",
       "    <tr>\n",
       "      <th>...</th>\n",
       "      <td>...</td>\n",
       "      <td>...</td>\n",
       "      <td>...</td>\n",
       "      <td>...</td>\n",
       "      <td>...</td>\n",
       "      <td>...</td>\n",
       "      <td>...</td>\n",
       "      <td>...</td>\n",
       "      <td>...</td>\n",
       "    </tr>\n",
       "    <tr>\n",
       "      <th>17995</th>\n",
       "      <td>11193</td>\n",
       "      <td>8.191938</td>\n",
       "      <td>0.295913</td>\n",
       "      <td>1.011287</td>\n",
       "      <td>1.0</td>\n",
       "      <td>0.0</td>\n",
       "      <td>0.0</td>\n",
       "      <td>1.0</td>\n",
       "      <td>0</td>\n",
       "    </tr>\n",
       "    <tr>\n",
       "      <th>17996</th>\n",
       "      <td>10245</td>\n",
       "      <td>10.098491</td>\n",
       "      <td>1.042468</td>\n",
       "      <td>3.073815</td>\n",
       "      <td>1.0</td>\n",
       "      <td>0.0</td>\n",
       "      <td>0.0</td>\n",
       "      <td>1.0</td>\n",
       "      <td>0</td>\n",
       "    </tr>\n",
       "    <tr>\n",
       "      <th>17997</th>\n",
       "      <td>5660</td>\n",
       "      <td>2.826653</td>\n",
       "      <td>0.093371</td>\n",
       "      <td>0.047923</td>\n",
       "      <td>1.0</td>\n",
       "      <td>1.0</td>\n",
       "      <td>0.0</td>\n",
       "      <td>0.0</td>\n",
       "      <td>0</td>\n",
       "    </tr>\n",
       "    <tr>\n",
       "      <th>17998</th>\n",
       "      <td>10839</td>\n",
       "      <td>0.826856</td>\n",
       "      <td>0.164881</td>\n",
       "      <td>2.827485</td>\n",
       "      <td>0.0</td>\n",
       "      <td>0.0</td>\n",
       "      <td>0.0</td>\n",
       "      <td>1.0</td>\n",
       "      <td>0</td>\n",
       "    </tr>\n",
       "    <tr>\n",
       "      <th>17999</th>\n",
       "      <td>5820</td>\n",
       "      <td>3.735009</td>\n",
       "      <td>0.067014</td>\n",
       "      <td>0.241356</td>\n",
       "      <td>1.0</td>\n",
       "      <td>0.0</td>\n",
       "      <td>0.0</td>\n",
       "      <td>1.0</td>\n",
       "      <td>0</td>\n",
       "    </tr>\n",
       "  </tbody>\n",
       "</table>\n",
       "<p>18000 rows × 9 columns</p>\n",
       "</div>"
      ],
      "text/plain": [
       "          id  distance_from_home  distance_from_last_transaction  \\\n",
       "0      16979            3.346870                        0.620101   \n",
       "1      12430           14.482868                        0.170185   \n",
       "2      19872            5.740898                        0.167525   \n",
       "3      18763            4.098570                        0.291850   \n",
       "4      13547            7.539580                        0.294439   \n",
       "...      ...                 ...                             ...   \n",
       "17995  11193            8.191938                        0.295913   \n",
       "17996  10245           10.098491                        1.042468   \n",
       "17997   5660            2.826653                        0.093371   \n",
       "17998  10839            0.826856                        0.164881   \n",
       "17999   5820            3.735009                        0.067014   \n",
       "\n",
       "       ratio_to_median_purchase_price  repeat_retailer  used_chip  \\\n",
       "0                            0.945172              1.0        0.0   \n",
       "1                            1.084836              1.0        0.0   \n",
       "2                            3.969652              1.0        0.0   \n",
       "3                            0.084129              1.0        1.0   \n",
       "4                            2.890880              1.0        1.0   \n",
       "...                               ...              ...        ...   \n",
       "17995                        1.011287              1.0        0.0   \n",
       "17996                        3.073815              1.0        0.0   \n",
       "17997                        0.047923              1.0        1.0   \n",
       "17998                        2.827485              0.0        0.0   \n",
       "17999                        0.241356              1.0        0.0   \n",
       "\n",
       "       used_pin_number  online_order  fraud  \n",
       "0                  0.0           1.0      0  \n",
       "1                  0.0           1.0      0  \n",
       "2                  0.0           1.0      0  \n",
       "3                  0.0           1.0      1  \n",
       "4                  0.0           0.0      0  \n",
       "...                ...           ...    ...  \n",
       "17995              0.0           1.0      0  \n",
       "17996              0.0           1.0      0  \n",
       "17997              0.0           0.0      0  \n",
       "17998              0.0           1.0      0  \n",
       "17999              0.0           1.0      0  \n",
       "\n",
       "[18000 rows x 9 columns]"
      ]
     },
     "execution_count": 67,
     "metadata": {},
     "output_type": "execute_result"
    }
   ],
   "source": [
    "train"
   ]
  },
  {
   "cell_type": "code",
   "execution_count": 68,
   "id": "119332a3",
   "metadata": {},
   "outputs": [
    {
     "data": {
      "text/plain": [
       "(17999, 18000)"
      ]
     },
     "execution_count": 68,
     "metadata": {},
     "output_type": "execute_result"
    }
   ],
   "source": [
    "train_index = len(train)-1\n",
    "test_index = len(train)\n",
    "train_index, test_index"
   ]
  },
  {
   "cell_type": "code",
   "execution_count": 69,
   "id": "e24a78f4",
   "metadata": {},
   "outputs": [
    {
     "name": "stdout",
     "output_type": "stream",
     "text": [
      "<class 'pandas.core.frame.DataFrame'>\n",
      "RangeIndex: 18000 entries, 0 to 17999\n",
      "Data columns (total 9 columns):\n",
      " #   Column                          Non-Null Count  Dtype  \n",
      "---  ------                          --------------  -----  \n",
      " 0   id                              18000 non-null  int64  \n",
      " 1   distance_from_home              18000 non-null  float64\n",
      " 2   distance_from_last_transaction  18000 non-null  float64\n",
      " 3   ratio_to_median_purchase_price  18000 non-null  float64\n",
      " 4   repeat_retailer                 18000 non-null  float64\n",
      " 5   used_chip                       18000 non-null  float64\n",
      " 6   used_pin_number                 18000 non-null  float64\n",
      " 7   online_order                    18000 non-null  float64\n",
      " 8   fraud                           18000 non-null  int64  \n",
      "dtypes: float64(7), int64(2)\n",
      "memory usage: 1.2 MB\n"
     ]
    }
   ],
   "source": [
    "train.info()"
   ]
  },
  {
   "cell_type": "code",
   "execution_count": 70,
   "id": "2e4641e3",
   "metadata": {},
   "outputs": [
    {
     "data": {
      "text/html": [
       "<div>\n",
       "<style scoped>\n",
       "    .dataframe tbody tr th:only-of-type {\n",
       "        vertical-align: middle;\n",
       "    }\n",
       "\n",
       "    .dataframe tbody tr th {\n",
       "        vertical-align: top;\n",
       "    }\n",
       "\n",
       "    .dataframe thead th {\n",
       "        text-align: right;\n",
       "    }\n",
       "</style>\n",
       "<table border=\"1\" class=\"dataframe\">\n",
       "  <thead>\n",
       "    <tr style=\"text-align: right;\">\n",
       "      <th></th>\n",
       "      <th>id</th>\n",
       "      <th>distance_from_home</th>\n",
       "      <th>distance_from_last_transaction</th>\n",
       "      <th>ratio_to_median_purchase_price</th>\n",
       "      <th>repeat_retailer</th>\n",
       "      <th>used_chip</th>\n",
       "      <th>used_pin_number</th>\n",
       "      <th>online_order</th>\n",
       "      <th>fraud</th>\n",
       "    </tr>\n",
       "  </thead>\n",
       "  <tbody>\n",
       "    <tr>\n",
       "      <th>count</th>\n",
       "      <td>18000.000000</td>\n",
       "      <td>18000.000000</td>\n",
       "      <td>18000.000000</td>\n",
       "      <td>18000.000000</td>\n",
       "      <td>18000.000000</td>\n",
       "      <td>18000.000000</td>\n",
       "      <td>18000.000000</td>\n",
       "      <td>18000.000000</td>\n",
       "      <td>18000.000000</td>\n",
       "    </tr>\n",
       "    <tr>\n",
       "      <th>mean</th>\n",
       "      <td>10004.217000</td>\n",
       "      <td>9.634483</td>\n",
       "      <td>1.194058</td>\n",
       "      <td>1.098892</td>\n",
       "      <td>0.928556</td>\n",
       "      <td>0.294222</td>\n",
       "      <td>0.047611</td>\n",
       "      <td>0.701222</td>\n",
       "      <td>0.086000</td>\n",
       "    </tr>\n",
       "    <tr>\n",
       "      <th>std</th>\n",
       "      <td>5777.289102</td>\n",
       "      <td>9.635835</td>\n",
       "      <td>2.642941</td>\n",
       "      <td>1.272369</td>\n",
       "      <td>0.257789</td>\n",
       "      <td>0.458379</td>\n",
       "      <td>0.220384</td>\n",
       "      <td>0.457735</td>\n",
       "      <td>0.280372</td>\n",
       "    </tr>\n",
       "    <tr>\n",
       "      <th>min</th>\n",
       "      <td>0.000000</td>\n",
       "      <td>0.000000</td>\n",
       "      <td>0.000000</td>\n",
       "      <td>0.000000</td>\n",
       "      <td>0.000000</td>\n",
       "      <td>0.000000</td>\n",
       "      <td>0.000000</td>\n",
       "      <td>0.000000</td>\n",
       "      <td>0.000000</td>\n",
       "    </tr>\n",
       "    <tr>\n",
       "      <th>25%</th>\n",
       "      <td>5017.750000</td>\n",
       "      <td>2.924786</td>\n",
       "      <td>0.144539</td>\n",
       "      <td>0.335077</td>\n",
       "      <td>1.000000</td>\n",
       "      <td>0.000000</td>\n",
       "      <td>0.000000</td>\n",
       "      <td>0.000000</td>\n",
       "      <td>0.000000</td>\n",
       "    </tr>\n",
       "    <tr>\n",
       "      <th>50%</th>\n",
       "      <td>9994.500000</td>\n",
       "      <td>6.181911</td>\n",
       "      <td>0.436769</td>\n",
       "      <td>0.764678</td>\n",
       "      <td>1.000000</td>\n",
       "      <td>0.000000</td>\n",
       "      <td>0.000000</td>\n",
       "      <td>1.000000</td>\n",
       "      <td>0.000000</td>\n",
       "    </tr>\n",
       "    <tr>\n",
       "      <th>75%</th>\n",
       "      <td>15005.250000</td>\n",
       "      <td>12.882383</td>\n",
       "      <td>1.073838</td>\n",
       "      <td>1.420102</td>\n",
       "      <td>1.000000</td>\n",
       "      <td>1.000000</td>\n",
       "      <td>0.000000</td>\n",
       "      <td>1.000000</td>\n",
       "      <td>0.000000</td>\n",
       "    </tr>\n",
       "    <tr>\n",
       "      <th>max</th>\n",
       "      <td>19999.000000</td>\n",
       "      <td>62.099289</td>\n",
       "      <td>51.653566</td>\n",
       "      <td>28.341698</td>\n",
       "      <td>2.000000</td>\n",
       "      <td>7.000000</td>\n",
       "      <td>8.000000</td>\n",
       "      <td>1.000000</td>\n",
       "      <td>1.000000</td>\n",
       "    </tr>\n",
       "  </tbody>\n",
       "</table>\n",
       "</div>"
      ],
      "text/plain": [
       "                 id  distance_from_home  distance_from_last_transaction  \\\n",
       "count  18000.000000        18000.000000                    18000.000000   \n",
       "mean   10004.217000            9.634483                        1.194058   \n",
       "std     5777.289102            9.635835                        2.642941   \n",
       "min        0.000000            0.000000                        0.000000   \n",
       "25%     5017.750000            2.924786                        0.144539   \n",
       "50%     9994.500000            6.181911                        0.436769   \n",
       "75%    15005.250000           12.882383                        1.073838   \n",
       "max    19999.000000           62.099289                       51.653566   \n",
       "\n",
       "       ratio_to_median_purchase_price  repeat_retailer     used_chip  \\\n",
       "count                    18000.000000     18000.000000  18000.000000   \n",
       "mean                         1.098892         0.928556      0.294222   \n",
       "std                          1.272369         0.257789      0.458379   \n",
       "min                          0.000000         0.000000      0.000000   \n",
       "25%                          0.335077         1.000000      0.000000   \n",
       "50%                          0.764678         1.000000      0.000000   \n",
       "75%                          1.420102         1.000000      1.000000   \n",
       "max                         28.341698         2.000000      7.000000   \n",
       "\n",
       "       used_pin_number  online_order         fraud  \n",
       "count     18000.000000  18000.000000  18000.000000  \n",
       "mean          0.047611      0.701222      0.086000  \n",
       "std           0.220384      0.457735      0.280372  \n",
       "min           0.000000      0.000000      0.000000  \n",
       "25%           0.000000      0.000000      0.000000  \n",
       "50%           0.000000      1.000000      0.000000  \n",
       "75%           0.000000      1.000000      0.000000  \n",
       "max           8.000000      1.000000      1.000000  "
      ]
     },
     "execution_count": 70,
     "metadata": {},
     "output_type": "execute_result"
    }
   ],
   "source": [
    "train.describe()"
   ]
  },
  {
   "cell_type": "markdown",
   "id": "fd7682fb",
   "metadata": {},
   "source": [
    "### distance from home"
   ]
  },
  {
   "cell_type": "code",
   "execution_count": 110,
   "id": "44482def",
   "metadata": {},
   "outputs": [
    {
     "data": {
      "text/plain": [
       "17993"
      ]
     },
     "execution_count": 110,
     "metadata": {},
     "output_type": "execute_result"
    }
   ],
   "source": [
    "train.distance_from_home.nunique()"
   ]
  },
  {
   "cell_type": "code",
   "execution_count": 111,
   "id": "ddbf447c",
   "metadata": {},
   "outputs": [
    {
     "data": {
      "text/plain": [
       "array([ 3.34686958, 14.48286751,  5.74089849, ...,  2.8266535 ,\n",
       "        0.82685643,  3.7350089 ])"
      ]
     },
     "execution_count": 111,
     "metadata": {},
     "output_type": "execute_result"
    }
   ],
   "source": [
    "train.distance_from_home.unique()"
   ]
  },
  {
   "cell_type": "code",
   "execution_count": 113,
   "id": "d6b92702",
   "metadata": {},
   "outputs": [
    {
     "data": {
      "text/plain": [
       "distance_from_home\n",
       "0.000000     4\n",
       "8.000000     2\n",
       "3.000000     2\n",
       "1.000000     2\n",
       "7.000000     2\n",
       "            ..\n",
       "16.937881    1\n",
       "5.743241     1\n",
       "2.686027     1\n",
       "1.403830     1\n",
       "3.735009     1\n",
       "Name: count, Length: 17993, dtype: int64"
      ]
     },
     "execution_count": 113,
     "metadata": {},
     "output_type": "execute_result"
    }
   ],
   "source": [
    "train.distance_from_home.value_counts()"
   ]
  },
  {
   "cell_type": "code",
   "execution_count": 103,
   "id": "dee09269",
   "metadata": {},
   "outputs": [
    {
     "data": {
      "text/plain": [
       "<Axes: xlabel='distance_from_home', ylabel='Count'>"
      ]
     },
     "execution_count": 103,
     "metadata": {},
     "output_type": "execute_result"
    },
    {
     "data": {
      "image/png": "[encoded data removed]",
      "text/plain": [
       "<Figure size 1500x700 with 1 Axes>"
      ]
     },
     "metadata": {},
     "output_type": "display_data"
    }
   ],
   "source": [
    "plt.figure(figsize=(15,7))\n",
    "sns.histplot(train, bins=20, x=\"distance_from_home\", hue=\"fraud\", kde=True)"
   ]
  },
  {
   "cell_type": "markdown",
   "id": "0ab25ec5",
   "metadata": {},
   "source": [
    "### my opinion\n",
    "I can be wrong but for me look like that the amount of fraude is tight to amount of transaction. In other words, even though the great amount of fraud is next to the home of the person we also can see that is the greatest amount of transaction as well."
   ]
  },
  {
   "cell_type": "markdown",
   "id": "3429e79f",
   "metadata": {},
   "source": [
    "### distance_from_last_transaction"
   ]
  },
  {
   "cell_type": "code",
   "execution_count": 114,
   "id": "530bac7b",
   "metadata": {},
   "outputs": [
    {
     "data": {
      "text/plain": [
       "17965"
      ]
     },
     "execution_count": 114,
     "metadata": {},
     "output_type": "execute_result"
    }
   ],
   "source": [
    "train.distance_from_last_transaction.nunique()"
   ]
  },
  {
   "cell_type": "code",
   "execution_count": 101,
   "id": "da31cd2f",
   "metadata": {},
   "outputs": [
    {
     "data": {
      "image/png": "[encoded data removed]",
      "text/plain": [
       "<Figure size 1500x800 with 1 Axes>"
      ]
     },
     "metadata": {},
     "output_type": "display_data"
    }
   ],
   "source": [
    "plt.figure(figsize=(15,8))\n",
    "sns.histplot(train, x=\"distance_from_last_transaction\", hue=\"fraud\", kde=True, bins=20);"
   ]
  },
  {
   "cell_type": "markdown",
   "id": "c2653e04",
   "metadata": {},
   "source": [
    "### my opinion\n",
    "The same as the distance_from_home column"
   ]
  },
  {
   "cell_type": "markdown",
   "id": "cff3d74a",
   "metadata": {},
   "source": [
    "### ratio_to_median_purchase_price"
   ]
  },
  {
   "cell_type": "code",
   "execution_count": 104,
   "id": "a84a371e",
   "metadata": {},
   "outputs": [
    {
     "data": {
      "text/html": [
       "<div>\n",
       "<style scoped>\n",
       "    .dataframe tbody tr th:only-of-type {\n",
       "        vertical-align: middle;\n",
       "    }\n",
       "\n",
       "    .dataframe tbody tr th {\n",
       "        vertical-align: top;\n",
       "    }\n",
       "\n",
       "    .dataframe thead th {\n",
       "        text-align: right;\n",
       "    }\n",
       "</style>\n",
       "<table border=\"1\" class=\"dataframe\">\n",
       "  <thead>\n",
       "    <tr style=\"text-align: right;\">\n",
       "      <th></th>\n",
       "      <th>id</th>\n",
       "      <th>distance_from_home</th>\n",
       "      <th>distance_from_last_transaction</th>\n",
       "      <th>ratio_to_median_purchase_price</th>\n",
       "      <th>repeat_retailer</th>\n",
       "      <th>used_chip</th>\n",
       "      <th>used_pin_number</th>\n",
       "      <th>online_order</th>\n",
       "      <th>fraud</th>\n",
       "    </tr>\n",
       "  </thead>\n",
       "  <tbody>\n",
       "    <tr>\n",
       "      <th>0</th>\n",
       "      <td>16979</td>\n",
       "      <td>3.346870</td>\n",
       "      <td>0.620101</td>\n",
       "      <td>0.945172</td>\n",
       "      <td>1.0</td>\n",
       "      <td>0.0</td>\n",
       "      <td>0.0</td>\n",
       "      <td>1.0</td>\n",
       "      <td>0</td>\n",
       "    </tr>\n",
       "    <tr>\n",
       "      <th>1</th>\n",
       "      <td>12430</td>\n",
       "      <td>14.482868</td>\n",
       "      <td>0.170185</td>\n",
       "      <td>1.084836</td>\n",
       "      <td>1.0</td>\n",
       "      <td>0.0</td>\n",
       "      <td>0.0</td>\n",
       "      <td>1.0</td>\n",
       "      <td>0</td>\n",
       "    </tr>\n",
       "  </tbody>\n",
       "</table>\n",
       "</div>"
      ],
      "text/plain": [
       "      id  distance_from_home  distance_from_last_transaction  \\\n",
       "0  16979            3.346870                        0.620101   \n",
       "1  12430           14.482868                        0.170185   \n",
       "\n",
       "   ratio_to_median_purchase_price  repeat_retailer  used_chip  \\\n",
       "0                        0.945172              1.0        0.0   \n",
       "1                        1.084836              1.0        0.0   \n",
       "\n",
       "   used_pin_number  online_order  fraud  \n",
       "0              0.0           1.0      0  \n",
       "1              0.0           1.0      0  "
      ]
     },
     "execution_count": 104,
     "metadata": {},
     "output_type": "execute_result"
    }
   ],
   "source": [
    "train.head(2)"
   ]
  },
  {
   "cell_type": "code",
   "execution_count": 115,
   "id": "99d9e6a0",
   "metadata": {},
   "outputs": [
    {
     "data": {
      "text/plain": [
       "17981"
      ]
     },
     "execution_count": 115,
     "metadata": {},
     "output_type": "execute_result"
    }
   ],
   "source": [
    "train.ratio_to_median_purchase_price.nunique()"
   ]
  },
  {
   "cell_type": "code",
   "execution_count": 108,
   "id": "9a5dfe88",
   "metadata": {},
   "outputs": [
    {
     "data": {
      "text/plain": [
       "<Axes: xlabel='ratio_to_median_purchase_price', ylabel='Count'>"
      ]
     },
     "execution_count": 108,
     "metadata": {},
     "output_type": "execute_result"
    },
    {
     "data": {
      "image/png": "[encoded data removed]",
      "text/plain": [
       "<Figure size 1500x700 with 1 Axes>"
      ]
     },
     "metadata": {},
     "output_type": "display_data"
    }
   ],
   "source": [
    "plt.figure(figsize=(15,7))\n",
    "sns.histplot(train, x=\"ratio_to_median_purchase_price\", kde=True, bins=20, hue=\"fraud\")"
   ]
  },
  {
   "cell_type": "markdown",
   "id": "f5288726",
   "metadata": {},
   "source": [
    "### my opinion\n",
    "the same as the distance_from_home column"
   ]
  },
  {
   "cell_type": "markdown",
   "id": "05ce5e89",
   "metadata": {},
   "source": [
    "### repeat_retailer"
   ]
  },
  {
   "cell_type": "code",
   "execution_count": 116,
   "id": "9889fda3",
   "metadata": {},
   "outputs": [
    {
     "data": {
      "text/html": [
       "<div>\n",
       "<style scoped>\n",
       "    .dataframe tbody tr th:only-of-type {\n",
       "        vertical-align: middle;\n",
       "    }\n",
       "\n",
       "    .dataframe tbody tr th {\n",
       "        vertical-align: top;\n",
       "    }\n",
       "\n",
       "    .dataframe thead th {\n",
       "        text-align: right;\n",
       "    }\n",
       "</style>\n",
       "<table border=\"1\" class=\"dataframe\">\n",
       "  <thead>\n",
       "    <tr style=\"text-align: right;\">\n",
       "      <th></th>\n",
       "      <th>id</th>\n",
       "      <th>distance_from_home</th>\n",
       "      <th>distance_from_last_transaction</th>\n",
       "      <th>ratio_to_median_purchase_price</th>\n",
       "      <th>repeat_retailer</th>\n",
       "      <th>used_chip</th>\n",
       "      <th>used_pin_number</th>\n",
       "      <th>online_order</th>\n",
       "      <th>fraud</th>\n",
       "    </tr>\n",
       "  </thead>\n",
       "  <tbody>\n",
       "    <tr>\n",
       "      <th>0</th>\n",
       "      <td>16979</td>\n",
       "      <td>3.346870</td>\n",
       "      <td>0.620101</td>\n",
       "      <td>0.945172</td>\n",
       "      <td>1.0</td>\n",
       "      <td>0.0</td>\n",
       "      <td>0.0</td>\n",
       "      <td>1.0</td>\n",
       "      <td>0</td>\n",
       "    </tr>\n",
       "    <tr>\n",
       "      <th>1</th>\n",
       "      <td>12430</td>\n",
       "      <td>14.482868</td>\n",
       "      <td>0.170185</td>\n",
       "      <td>1.084836</td>\n",
       "      <td>1.0</td>\n",
       "      <td>0.0</td>\n",
       "      <td>0.0</td>\n",
       "      <td>1.0</td>\n",
       "      <td>0</td>\n",
       "    </tr>\n",
       "  </tbody>\n",
       "</table>\n",
       "</div>"
      ],
      "text/plain": [
       "      id  distance_from_home  distance_from_last_transaction  \\\n",
       "0  16979            3.346870                        0.620101   \n",
       "1  12430           14.482868                        0.170185   \n",
       "\n",
       "   ratio_to_median_purchase_price  repeat_retailer  used_chip  \\\n",
       "0                        0.945172              1.0        0.0   \n",
       "1                        1.084836              1.0        0.0   \n",
       "\n",
       "   used_pin_number  online_order  fraud  \n",
       "0              0.0           1.0      0  \n",
       "1              0.0           1.0      0  "
      ]
     },
     "execution_count": 116,
     "metadata": {},
     "output_type": "execute_result"
    }
   ],
   "source": [
    "train.head(2)"
   ]
  },
  {
   "cell_type": "code",
   "execution_count": 121,
   "id": "034c7930",
   "metadata": {},
   "outputs": [
    {
     "data": {
      "text/plain": [
       "3"
      ]
     },
     "execution_count": 121,
     "metadata": {},
     "output_type": "execute_result"
    }
   ],
   "source": [
    "train.repeat_retailer.nunique()"
   ]
  },
  {
   "cell_type": "code",
   "execution_count": 122,
   "id": "5609466d",
   "metadata": {},
   "outputs": [
    {
     "data": {
      "text/plain": [
       "array([1., 0., 2.])"
      ]
     },
     "execution_count": 122,
     "metadata": {},
     "output_type": "execute_result"
    }
   ],
   "source": [
    "train.repeat_retailer.unique()"
   ]
  },
  {
   "cell_type": "code",
   "execution_count": null,
   "id": "ab89ce45",
   "metadata": {},
   "outputs": [],
   "source": [
    "plt.figure(figsize=(15,7))\n",
    "sns.countplot(train, x=\"repeat_retailer\", hue=\"fraud\")"
   ]
  }
 ],
 "metadata": {
  "kernelspec": {
   "display_name": "Python 3 (ipykernel)",
   "language": "python",
   "name": "python3"
  },
  "language_info": {
   "codemirror_mode": {
    "name": "ipython",
    "version": 3
   },
   "file_extension": ".py",
   "mimetype": "text/x-python",
   "name": "python",
   "nbconvert_exporter": "python",
   "pygments_lexer": "ipython3",
   "version": "3.11.5"
  }
 },
 "nbformat": 4,
 "nbformat_minor": 5
}
