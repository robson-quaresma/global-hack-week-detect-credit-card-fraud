{
 "cells": [
  {
   "cell_type": "markdown",
   "id": "cf98f7d7",
   "metadata": {},
   "source": [
    "# Goal\n",
    "\n",
    "Prevent a credit card fraud: when a bad actor uses someone else's credit card information to make a purchase without their permission."
   ]
  },
  {
   "cell_type": "markdown",
   "id": "d8be72c3",
   "metadata": {},
   "source": [
    "**Columns**:\n",
    "- **distance_from_home** - the distance from home where the transaction happened.\n",
    "- **distance_from_last_transaction** - the distance from last transaction happened.\n",
    "- **ratio_to_median_purchase_price** - Ratio of purchased price transaction to median purchase price.\n",
    "- **repeat_retailer** - Is the transaction happened from same retailer.\n",
    "- **used_chip** - Is the transaction through chip (credit card).\n",
    "- **used_pin_number** - Is the transaction happened by using PIN number.\n",
    "- **online_order** - Is the transaction an online order.\n",
    "- **fraud** - Is the transaction fraudulent. This is what we're trying to predict."
   ]
  },
  {
   "cell_type": "markdown",
   "id": "f2d0963d",
   "metadata": {},
   "source": [
    "# Imports"
   ]
  },
  {
   "cell_type": "markdown",
   "id": "0eca103f",
   "metadata": {},
   "source": [
    "## libraries"
   ]
  },
  {
   "cell_type": "code",
   "execution_count": 1,
   "id": "5e944023",
   "metadata": {},
   "outputs": [],
   "source": [
    "import numpy as np\n",
    "import pandas as pd\n",
    "import matplotlib.pyplot as plt"
   ]
  },
  {
   "cell_type": "markdown",
   "id": "628f1b53",
   "metadata": {},
   "source": [
    "## data"
   ]
  },
  {
   "cell_type": "code",
   "execution_count": 2,
   "id": "ceb60859",
   "metadata": {},
   "outputs": [],
   "source": [
    "train = pd.read_csv(\"train.csv\")\n",
    "test = pd.read_csv(\"test.csv\")"
   ]
  },
  {
   "cell_type": "markdown",
   "id": "0cfa29ee",
   "metadata": {},
   "source": [
    "---"
   ]
  },
  {
   "cell_type": "markdown",
   "id": "360323b6",
   "metadata": {},
   "source": [
    "# Exploratory Data Analysis "
   ]
  },
  {
   "cell_type": "markdown",
   "id": "7987e737",
   "metadata": {},
   "source": [
    "## General"
   ]
  },
  {
   "cell_type": "code",
   "execution_count": 5,
   "id": "7ae6f138",
   "metadata": {},
   "outputs": [
    {
     "data": {
      "text/plain": [
       "((18000, 9), (2000, 8))"
      ]
     },
     "execution_count": 5,
     "metadata": {},
     "output_type": "execute_result"
    }
   ],
   "source": [
    "train.shape, test.shape"
   ]
  },
  {
   "cell_type": "code",
   "execution_count": 6,
   "id": "79bac448",
   "metadata": {},
   "outputs": [
    {
     "data": {
      "text/plain": [
       "id                                0\n",
       "distance_from_home                0\n",
       "distance_from_last_transaction    0\n",
       "ratio_to_median_purchase_price    0\n",
       "repeat_retailer                   0\n",
       "used_chip                         0\n",
       "used_pin_number                   0\n",
       "online_order                      0\n",
       "fraud                             0\n",
       "dtype: int64"
      ]
     },
     "execution_count": 6,
     "metadata": {},
     "output_type": "execute_result"
    }
   ],
   "source": [
    "train.isnull().sum()"
   ]
  },
  {
   "cell_type": "code",
   "execution_count": 7,
   "id": "1f5f24d3",
   "metadata": {},
   "outputs": [
    {
     "data": {
      "text/plain": [
       "id                                0\n",
       "distance_from_home                0\n",
       "distance_from_last_transaction    0\n",
       "ratio_to_median_purchase_price    0\n",
       "repeat_retailer                   0\n",
       "used_chip                         0\n",
       "used_pin_number                   0\n",
       "online_order                      0\n",
       "dtype: int64"
      ]
     },
     "execution_count": 7,
     "metadata": {},
     "output_type": "execute_result"
    }
   ],
   "source": [
    "test.isnull().sum()"
   ]
  },
  {
   "cell_type": "code",
   "execution_count": 8,
   "id": "210a474f",
   "metadata": {},
   "outputs": [
    {
     "data": {
      "text/html": [
       "<div>\n",
       "<style scoped>\n",
       "    .dataframe tbody tr th:only-of-type {\n",
       "        vertical-align: middle;\n",
       "    }\n",
       "\n",
       "    .dataframe tbody tr th {\n",
       "        vertical-align: top;\n",
       "    }\n",
       "\n",
       "    .dataframe thead th {\n",
       "        text-align: right;\n",
       "    }\n",
       "</style>\n",
       "<table border=\"1\" class=\"dataframe\">\n",
       "  <thead>\n",
       "    <tr style=\"text-align: right;\">\n",
       "      <th></th>\n",
       "      <th>id</th>\n",
       "      <th>distance_from_home</th>\n",
       "      <th>distance_from_last_transaction</th>\n",
       "      <th>ratio_to_median_purchase_price</th>\n",
       "      <th>repeat_retailer</th>\n",
       "      <th>used_chip</th>\n",
       "      <th>used_pin_number</th>\n",
       "      <th>online_order</th>\n",
       "      <th>fraud</th>\n",
       "    </tr>\n",
       "  </thead>\n",
       "  <tbody>\n",
       "    <tr>\n",
       "      <th>0</th>\n",
       "      <td>16979</td>\n",
       "      <td>3.346870</td>\n",
       "      <td>0.620101</td>\n",
       "      <td>0.945172</td>\n",
       "      <td>1.0</td>\n",
       "      <td>0.0</td>\n",
       "      <td>0.0</td>\n",
       "      <td>1.0</td>\n",
       "      <td>0</td>\n",
       "    </tr>\n",
       "    <tr>\n",
       "      <th>1</th>\n",
       "      <td>12430</td>\n",
       "      <td>14.482868</td>\n",
       "      <td>0.170185</td>\n",
       "      <td>1.084836</td>\n",
       "      <td>1.0</td>\n",
       "      <td>0.0</td>\n",
       "      <td>0.0</td>\n",
       "      <td>1.0</td>\n",
       "      <td>0</td>\n",
       "    </tr>\n",
       "    <tr>\n",
       "      <th>2</th>\n",
       "      <td>19872</td>\n",
       "      <td>5.740898</td>\n",
       "      <td>0.167525</td>\n",
       "      <td>3.969652</td>\n",
       "      <td>1.0</td>\n",
       "      <td>0.0</td>\n",
       "      <td>0.0</td>\n",
       "      <td>1.0</td>\n",
       "      <td>0</td>\n",
       "    </tr>\n",
       "    <tr>\n",
       "      <th>3</th>\n",
       "      <td>18763</td>\n",
       "      <td>4.098570</td>\n",
       "      <td>0.291850</td>\n",
       "      <td>0.084129</td>\n",
       "      <td>1.0</td>\n",
       "      <td>1.0</td>\n",
       "      <td>0.0</td>\n",
       "      <td>1.0</td>\n",
       "      <td>1</td>\n",
       "    </tr>\n",
       "    <tr>\n",
       "      <th>4</th>\n",
       "      <td>13547</td>\n",
       "      <td>7.539580</td>\n",
       "      <td>0.294439</td>\n",
       "      <td>2.890880</td>\n",
       "      <td>1.0</td>\n",
       "      <td>1.0</td>\n",
       "      <td>0.0</td>\n",
       "      <td>0.0</td>\n",
       "      <td>0</td>\n",
       "    </tr>\n",
       "    <tr>\n",
       "      <th>...</th>\n",
       "      <td>...</td>\n",
       "      <td>...</td>\n",
       "      <td>...</td>\n",
       "      <td>...</td>\n",
       "      <td>...</td>\n",
       "      <td>...</td>\n",
       "      <td>...</td>\n",
       "      <td>...</td>\n",
       "      <td>...</td>\n",
       "    </tr>\n",
       "    <tr>\n",
       "      <th>17995</th>\n",
       "      <td>11193</td>\n",
       "      <td>8.191938</td>\n",
       "      <td>0.295913</td>\n",
       "      <td>1.011287</td>\n",
       "      <td>1.0</td>\n",
       "      <td>0.0</td>\n",
       "      <td>0.0</td>\n",
       "      <td>1.0</td>\n",
       "      <td>0</td>\n",
       "    </tr>\n",
       "    <tr>\n",
       "      <th>17996</th>\n",
       "      <td>10245</td>\n",
       "      <td>10.098491</td>\n",
       "      <td>1.042468</td>\n",
       "      <td>3.073815</td>\n",
       "      <td>1.0</td>\n",
       "      <td>0.0</td>\n",
       "      <td>0.0</td>\n",
       "      <td>1.0</td>\n",
       "      <td>0</td>\n",
       "    </tr>\n",
       "    <tr>\n",
       "      <th>17997</th>\n",
       "      <td>5660</td>\n",
       "      <td>2.826653</td>\n",
       "      <td>0.093371</td>\n",
       "      <td>0.047923</td>\n",
       "      <td>1.0</td>\n",
       "      <td>1.0</td>\n",
       "      <td>0.0</td>\n",
       "      <td>0.0</td>\n",
       "      <td>0</td>\n",
       "    </tr>\n",
       "    <tr>\n",
       "      <th>17998</th>\n",
       "      <td>10839</td>\n",
       "      <td>0.826856</td>\n",
       "      <td>0.164881</td>\n",
       "      <td>2.827485</td>\n",
       "      <td>0.0</td>\n",
       "      <td>0.0</td>\n",
       "      <td>0.0</td>\n",
       "      <td>1.0</td>\n",
       "      <td>0</td>\n",
       "    </tr>\n",
       "    <tr>\n",
       "      <th>17999</th>\n",
       "      <td>5820</td>\n",
       "      <td>3.735009</td>\n",
       "      <td>0.067014</td>\n",
       "      <td>0.241356</td>\n",
       "      <td>1.0</td>\n",
       "      <td>0.0</td>\n",
       "      <td>0.0</td>\n",
       "      <td>1.0</td>\n",
       "      <td>0</td>\n",
       "    </tr>\n",
       "  </tbody>\n",
       "</table>\n",
       "<p>18000 rows × 9 columns</p>\n",
       "</div>"
      ],
      "text/plain": [
       "          id  distance_from_home  distance_from_last_transaction  \\\n",
       "0      16979            3.346870                        0.620101   \n",
       "1      12430           14.482868                        0.170185   \n",
       "2      19872            5.740898                        0.167525   \n",
       "3      18763            4.098570                        0.291850   \n",
       "4      13547            7.539580                        0.294439   \n",
       "...      ...                 ...                             ...   \n",
       "17995  11193            8.191938                        0.295913   \n",
       "17996  10245           10.098491                        1.042468   \n",
       "17997   5660            2.826653                        0.093371   \n",
       "17998  10839            0.826856                        0.164881   \n",
       "17999   5820            3.735009                        0.067014   \n",
       "\n",
       "       ratio_to_median_purchase_price  repeat_retailer  used_chip  \\\n",
       "0                            0.945172              1.0        0.0   \n",
       "1                            1.084836              1.0        0.0   \n",
       "2                            3.969652              1.0        0.0   \n",
       "3                            0.084129              1.0        1.0   \n",
       "4                            2.890880              1.0        1.0   \n",
       "...                               ...              ...        ...   \n",
       "17995                        1.011287              1.0        0.0   \n",
       "17996                        3.073815              1.0        0.0   \n",
       "17997                        0.047923              1.0        1.0   \n",
       "17998                        2.827485              0.0        0.0   \n",
       "17999                        0.241356              1.0        0.0   \n",
       "\n",
       "       used_pin_number  online_order  fraud  \n",
       "0                  0.0           1.0      0  \n",
       "1                  0.0           1.0      0  \n",
       "2                  0.0           1.0      0  \n",
       "3                  0.0           1.0      1  \n",
       "4                  0.0           0.0      0  \n",
       "...                ...           ...    ...  \n",
       "17995              0.0           1.0      0  \n",
       "17996              0.0           1.0      0  \n",
       "17997              0.0           0.0      0  \n",
       "17998              0.0           1.0      0  \n",
       "17999              0.0           1.0      0  \n",
       "\n",
       "[18000 rows x 9 columns]"
      ]
     },
     "execution_count": 8,
     "metadata": {},
     "output_type": "execute_result"
    }
   ],
   "source": [
    "train"
   ]
  },
  {
   "cell_type": "code",
   "execution_count": 12,
   "id": "f688ceda",
   "metadata": {},
   "outputs": [
    {
     "data": {
      "text/plain": [
       "(17999, 18000)"
      ]
     },
     "execution_count": 12,
     "metadata": {},
     "output_type": "execute_result"
    }
   ],
   "source": [
    "train_index = len(train)-1\n",
    "test_index = len(train)\n",
    "train_index, test_index"
   ]
  },
  {
   "cell_type": "code",
   "execution_count": null,
   "id": "24eb5e5f",
   "metadata": {},
   "outputs": [],
   "source": []
  },
  {
   "cell_type": "code",
   "execution_count": null,
   "id": "6f3d752b",
   "metadata": {},
   "outputs": [],
   "source": []
  },
  {
   "cell_type": "code",
   "execution_count": null,
   "id": "f05d2303",
   "metadata": {},
   "outputs": [],
   "source": []
  },
  {
   "cell_type": "code",
   "execution_count": null,
   "id": "fc77a46c",
   "metadata": {},
   "outputs": [],
   "source": []
  },
  {
   "cell_type": "code",
   "execution_count": null,
   "id": "e00f133e",
   "metadata": {},
   "outputs": [],
   "source": []
  },
  {
   "cell_type": "code",
   "execution_count": null,
   "id": "40add651",
   "metadata": {},
   "outputs": [],
   "source": []
  },
  {
   "cell_type": "code",
   "execution_count": null,
   "id": "a9544b11",
   "metadata": {},
   "outputs": [],
   "source": []
  },
  {
   "cell_type": "code",
   "execution_count": null,
   "id": "1694070d",
   "metadata": {},
   "outputs": [],
   "source": []
  },
  {
   "cell_type": "code",
   "execution_count": null,
   "id": "7e6cb116",
   "metadata": {},
   "outputs": [],
   "source": []
  },
  {
   "cell_type": "code",
   "execution_count": null,
   "id": "4eac8af0",
   "metadata": {},
   "outputs": [],
   "source": []
  },
  {
   "cell_type": "code",
   "execution_count": null,
   "id": "3d4b34a8",
   "metadata": {},
   "outputs": [],
   "source": []
  },
  {
   "cell_type": "code",
   "execution_count": null,
   "id": "5bfc4edb",
   "metadata": {},
   "outputs": [],
   "source": []
  }
 ],
 "metadata": {
  "kernelspec": {
   "display_name": "Python 3 (ipykernel)",
   "language": "python",
   "name": "python3"
  },
  "language_info": {
   "codemirror_mode": {
    "name": "ipython",
    "version": 3
   },
   "file_extension": ".py",
   "mimetype": "text/x-python",
   "name": "python",
   "nbconvert_exporter": "python",
   "pygments_lexer": "ipython3",
   "version": "3.11.5"
  }
 },
 "nbformat": 4,
 "nbformat_minor": 5
}
