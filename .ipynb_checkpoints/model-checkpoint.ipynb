{
 "cells": [
  {
   "cell_type": "markdown",
   "id": "7a6c74ae",
   "metadata": {},
   "source": [
    "# Goal\n",
    "\n",
    "Prevent a credit card fraud: when a bad actor uses someone else's credit card information to make a purchase without their permission."
   ]
  },
  {
   "cell_type": "markdown",
   "id": "31851360",
   "metadata": {},
   "source": [
    "**Columns**:\n",
    "- **distance_from_home** - the distance from home where the transaction happened.\n",
    "- **distance_from_last_transaction** - the distance from last transaction happened.\n",
    "- **ratio_to_median_purchase_price** - Ratio of purchased price transaction to median purchase price.\n",
    "- **repeat_retailer** - Is the transaction happened from same retailer.\n",
    "- **used_chip** - Is the transaction through chip (credit card).\n",
    "- **used_pin_number** - Is the transaction happened by using PIN number.\n",
    "- **online_order** - Is the transaction an online order.\n",
    "- **fraud** - Is the transaction fraudulent. This is what we're trying to predict."
   ]
  },
  {
   "cell_type": "markdown",
   "id": "1f4934b1",
   "metadata": {},
   "source": [
    "# Imports"
   ]
  },
  {
   "cell_type": "markdown",
   "id": "a5a9d6a1",
   "metadata": {},
   "source": [
    "## libraries"
   ]
  },
  {
   "cell_type": "code",
   "execution_count": 39,
   "id": "b1f9b10c",
   "metadata": {},
   "outputs": [],
   "source": [
    "# number crunching\n",
    "import numpy as np\n",
    "import pandas as pd\n",
    "\n",
    "# visualization\n",
    "import matplotlib.pyplot as plt\n",
    "import seaborn as sns\n",
    "\n",
    "# preprocessing\n",
    "from sklearn.preprocessing import StandardScaler\n",
    "\n",
    "# models\n",
    "from sklearn.naive_bayes import GaussianNB\n",
    "from sklearn.linear_model import LogisticRegression, RidgeClassifier, SGDClassifier\n",
    "from sklearn.neighbors import KNeighborsClassifier\n",
    "from sklearn.svm import SVC\n",
    "from sklearn.ensemble import RandomForestClassifier\n",
    "from sklearn.ensemble import ExtraTreesClassifier\n",
    "from sklearn.tree import DecisionTreeClassifier\n",
    "\n",
    "# validation\n",
    "from sklearn.model_selection import cross_val_score, KFold\n",
    "\n"
   ]
  },
  {
   "cell_type": "code",
   "execution_count": 41,
   "id": "d1a21fc4",
   "metadata": {},
   "outputs": [
    {
     "name": "stdout",
     "output_type": "stream",
     "text": [
      "Collecting xgboost\n",
      "  Obtaining dependency information for xgboost from https://files.pythonhosted.org/packages/03/e6/4aef6799badc2693548559bad5b56d56cfe89eada337c815fdfe92175250/xgboost-2.0.3-py3-none-macosx_12_0_arm64.whl.metadata\n",
      "  Downloading xgboost-2.0.3-py3-none-macosx_12_0_arm64.whl.metadata (2.0 kB)\n",
      "Requirement already satisfied: numpy in /Users/budd8y/anaconda3/lib/python3.11/site-packages (from xgboost) (1.24.3)\n",
      "Requirement already satisfied: scipy in /Users/budd8y/anaconda3/lib/python3.11/site-packages (from xgboost) (1.11.1)\n",
      "Downloading xgboost-2.0.3-py3-none-macosx_12_0_arm64.whl (1.9 MB)\n",
      "\u001b[2K   \u001b[90m━━━━━━━━━━━━━━━━━━━━━━━━━━━━━━━━━━━━━━━━\u001b[0m \u001b[32m1.9/1.9 MB\u001b[0m \u001b[31m21.2 MB/s\u001b[0m eta \u001b[36m0:00:00\u001b[0ma \u001b[36m0:00:01\u001b[0m\n",
      "\u001b[?25hInstalling collected packages: xgboost\n",
      "Successfully installed xgboost-2.0.3\n"
     ]
    }
   ],
   "source": [
    "# Pip 21.3+ is required\n",
    "!pip install xgboost"
   ]
  },
  {
   "cell_type": "code",
   "execution_count": 42,
   "id": "ae96fc57",
   "metadata": {},
   "outputs": [],
   "source": [
    "from xgboost import XGBClassifier"
   ]
  },
  {
   "cell_type": "markdown",
   "id": "9d754a05",
   "metadata": {},
   "source": [
    "## data"
   ]
  },
  {
   "cell_type": "code",
   "execution_count": 2,
   "id": "e690eaaf",
   "metadata": {},
   "outputs": [],
   "source": [
    "train = pd.read_csv(\"train.csv\")\n",
    "test = pd.read_csv(\"test.csv\")"
   ]
  },
  {
   "cell_type": "markdown",
   "id": "212c6060",
   "metadata": {},
   "source": [
    "---"
   ]
  },
  {
   "cell_type": "markdown",
   "id": "d56c30d4",
   "metadata": {},
   "source": [
    "# Exploratory Data Analysis "
   ]
  },
  {
   "cell_type": "markdown",
   "id": "c8cfc7e2",
   "metadata": {},
   "source": [
    "## General"
   ]
  },
  {
   "cell_type": "code",
   "execution_count": 3,
   "id": "834fe1d3",
   "metadata": {},
   "outputs": [
    {
     "data": {
      "text/plain": [
       "((18000, 9), (2000, 8))"
      ]
     },
     "execution_count": 3,
     "metadata": {},
     "output_type": "execute_result"
    }
   ],
   "source": [
    "train.shape, test.shape"
   ]
  },
  {
   "cell_type": "code",
   "execution_count": 4,
   "id": "f56ee7d2",
   "metadata": {},
   "outputs": [
    {
     "data": {
      "text/plain": [
       "id                                0\n",
       "distance_from_home                0\n",
       "distance_from_last_transaction    0\n",
       "ratio_to_median_purchase_price    0\n",
       "repeat_retailer                   0\n",
       "used_chip                         0\n",
       "used_pin_number                   0\n",
       "online_order                      0\n",
       "fraud                             0\n",
       "dtype: int64"
      ]
     },
     "execution_count": 4,
     "metadata": {},
     "output_type": "execute_result"
    }
   ],
   "source": [
    "train.isnull().sum()"
   ]
  },
  {
   "cell_type": "code",
   "execution_count": 5,
   "id": "15e96c42",
   "metadata": {},
   "outputs": [
    {
     "data": {
      "text/plain": [
       "id                                0\n",
       "distance_from_home                0\n",
       "distance_from_last_transaction    0\n",
       "ratio_to_median_purchase_price    0\n",
       "repeat_retailer                   0\n",
       "used_chip                         0\n",
       "used_pin_number                   0\n",
       "online_order                      0\n",
       "dtype: int64"
      ]
     },
     "execution_count": 5,
     "metadata": {},
     "output_type": "execute_result"
    }
   ],
   "source": [
    "test.isnull().sum()"
   ]
  },
  {
   "cell_type": "code",
   "execution_count": 6,
   "id": "e7e9d3ff",
   "metadata": {},
   "outputs": [
    {
     "data": {
      "text/html": [
       "<div>\n",
       "<style scoped>\n",
       "    .dataframe tbody tr th:only-of-type {\n",
       "        vertical-align: middle;\n",
       "    }\n",
       "\n",
       "    .dataframe tbody tr th {\n",
       "        vertical-align: top;\n",
       "    }\n",
       "\n",
       "    .dataframe thead th {\n",
       "        text-align: right;\n",
       "    }\n",
       "</style>\n",
       "<table border=\"1\" class=\"dataframe\">\n",
       "  <thead>\n",
       "    <tr style=\"text-align: right;\">\n",
       "      <th></th>\n",
       "      <th>id</th>\n",
       "      <th>distance_from_home</th>\n",
       "      <th>distance_from_last_transaction</th>\n",
       "      <th>ratio_to_median_purchase_price</th>\n",
       "      <th>repeat_retailer</th>\n",
       "      <th>used_chip</th>\n",
       "      <th>used_pin_number</th>\n",
       "      <th>online_order</th>\n",
       "      <th>fraud</th>\n",
       "    </tr>\n",
       "  </thead>\n",
       "  <tbody>\n",
       "    <tr>\n",
       "      <th>0</th>\n",
       "      <td>16979</td>\n",
       "      <td>3.346870</td>\n",
       "      <td>0.620101</td>\n",
       "      <td>0.945172</td>\n",
       "      <td>1.0</td>\n",
       "      <td>0.0</td>\n",
       "      <td>0.0</td>\n",
       "      <td>1.0</td>\n",
       "      <td>0</td>\n",
       "    </tr>\n",
       "    <tr>\n",
       "      <th>1</th>\n",
       "      <td>12430</td>\n",
       "      <td>14.482868</td>\n",
       "      <td>0.170185</td>\n",
       "      <td>1.084836</td>\n",
       "      <td>1.0</td>\n",
       "      <td>0.0</td>\n",
       "      <td>0.0</td>\n",
       "      <td>1.0</td>\n",
       "      <td>0</td>\n",
       "    </tr>\n",
       "    <tr>\n",
       "      <th>2</th>\n",
       "      <td>19872</td>\n",
       "      <td>5.740898</td>\n",
       "      <td>0.167525</td>\n",
       "      <td>3.969652</td>\n",
       "      <td>1.0</td>\n",
       "      <td>0.0</td>\n",
       "      <td>0.0</td>\n",
       "      <td>1.0</td>\n",
       "      <td>0</td>\n",
       "    </tr>\n",
       "    <tr>\n",
       "      <th>3</th>\n",
       "      <td>18763</td>\n",
       "      <td>4.098570</td>\n",
       "      <td>0.291850</td>\n",
       "      <td>0.084129</td>\n",
       "      <td>1.0</td>\n",
       "      <td>1.0</td>\n",
       "      <td>0.0</td>\n",
       "      <td>1.0</td>\n",
       "      <td>1</td>\n",
       "    </tr>\n",
       "    <tr>\n",
       "      <th>4</th>\n",
       "      <td>13547</td>\n",
       "      <td>7.539580</td>\n",
       "      <td>0.294439</td>\n",
       "      <td>2.890880</td>\n",
       "      <td>1.0</td>\n",
       "      <td>1.0</td>\n",
       "      <td>0.0</td>\n",
       "      <td>0.0</td>\n",
       "      <td>0</td>\n",
       "    </tr>\n",
       "    <tr>\n",
       "      <th>...</th>\n",
       "      <td>...</td>\n",
       "      <td>...</td>\n",
       "      <td>...</td>\n",
       "      <td>...</td>\n",
       "      <td>...</td>\n",
       "      <td>...</td>\n",
       "      <td>...</td>\n",
       "      <td>...</td>\n",
       "      <td>...</td>\n",
       "    </tr>\n",
       "    <tr>\n",
       "      <th>17995</th>\n",
       "      <td>11193</td>\n",
       "      <td>8.191938</td>\n",
       "      <td>0.295913</td>\n",
       "      <td>1.011287</td>\n",
       "      <td>1.0</td>\n",
       "      <td>0.0</td>\n",
       "      <td>0.0</td>\n",
       "      <td>1.0</td>\n",
       "      <td>0</td>\n",
       "    </tr>\n",
       "    <tr>\n",
       "      <th>17996</th>\n",
       "      <td>10245</td>\n",
       "      <td>10.098491</td>\n",
       "      <td>1.042468</td>\n",
       "      <td>3.073815</td>\n",
       "      <td>1.0</td>\n",
       "      <td>0.0</td>\n",
       "      <td>0.0</td>\n",
       "      <td>1.0</td>\n",
       "      <td>0</td>\n",
       "    </tr>\n",
       "    <tr>\n",
       "      <th>17997</th>\n",
       "      <td>5660</td>\n",
       "      <td>2.826653</td>\n",
       "      <td>0.093371</td>\n",
       "      <td>0.047923</td>\n",
       "      <td>1.0</td>\n",
       "      <td>1.0</td>\n",
       "      <td>0.0</td>\n",
       "      <td>0.0</td>\n",
       "      <td>0</td>\n",
       "    </tr>\n",
       "    <tr>\n",
       "      <th>17998</th>\n",
       "      <td>10839</td>\n",
       "      <td>0.826856</td>\n",
       "      <td>0.164881</td>\n",
       "      <td>2.827485</td>\n",
       "      <td>0.0</td>\n",
       "      <td>0.0</td>\n",
       "      <td>0.0</td>\n",
       "      <td>1.0</td>\n",
       "      <td>0</td>\n",
       "    </tr>\n",
       "    <tr>\n",
       "      <th>17999</th>\n",
       "      <td>5820</td>\n",
       "      <td>3.735009</td>\n",
       "      <td>0.067014</td>\n",
       "      <td>0.241356</td>\n",
       "      <td>1.0</td>\n",
       "      <td>0.0</td>\n",
       "      <td>0.0</td>\n",
       "      <td>1.0</td>\n",
       "      <td>0</td>\n",
       "    </tr>\n",
       "  </tbody>\n",
       "</table>\n",
       "<p>18000 rows × 9 columns</p>\n",
       "</div>"
      ],
      "text/plain": [
       "          id  distance_from_home  distance_from_last_transaction  \\\n",
       "0      16979            3.346870                        0.620101   \n",
       "1      12430           14.482868                        0.170185   \n",
       "2      19872            5.740898                        0.167525   \n",
       "3      18763            4.098570                        0.291850   \n",
       "4      13547            7.539580                        0.294439   \n",
       "...      ...                 ...                             ...   \n",
       "17995  11193            8.191938                        0.295913   \n",
       "17996  10245           10.098491                        1.042468   \n",
       "17997   5660            2.826653                        0.093371   \n",
       "17998  10839            0.826856                        0.164881   \n",
       "17999   5820            3.735009                        0.067014   \n",
       "\n",
       "       ratio_to_median_purchase_price  repeat_retailer  used_chip  \\\n",
       "0                            0.945172              1.0        0.0   \n",
       "1                            1.084836              1.0        0.0   \n",
       "2                            3.969652              1.0        0.0   \n",
       "3                            0.084129              1.0        1.0   \n",
       "4                            2.890880              1.0        1.0   \n",
       "...                               ...              ...        ...   \n",
       "17995                        1.011287              1.0        0.0   \n",
       "17996                        3.073815              1.0        0.0   \n",
       "17997                        0.047923              1.0        1.0   \n",
       "17998                        2.827485              0.0        0.0   \n",
       "17999                        0.241356              1.0        0.0   \n",
       "\n",
       "       used_pin_number  online_order  fraud  \n",
       "0                  0.0           1.0      0  \n",
       "1                  0.0           1.0      0  \n",
       "2                  0.0           1.0      0  \n",
       "3                  0.0           1.0      1  \n",
       "4                  0.0           0.0      0  \n",
       "...                ...           ...    ...  \n",
       "17995              0.0           1.0      0  \n",
       "17996              0.0           1.0      0  \n",
       "17997              0.0           0.0      0  \n",
       "17998              0.0           1.0      0  \n",
       "17999              0.0           1.0      0  \n",
       "\n",
       "[18000 rows x 9 columns]"
      ]
     },
     "execution_count": 6,
     "metadata": {},
     "output_type": "execute_result"
    }
   ],
   "source": [
    "train"
   ]
  },
  {
   "cell_type": "code",
   "execution_count": 7,
   "id": "dec2a021",
   "metadata": {},
   "outputs": [
    {
     "data": {
      "text/plain": [
       "(17999, 18000)"
      ]
     },
     "execution_count": 7,
     "metadata": {},
     "output_type": "execute_result"
    }
   ],
   "source": [
    "train_index = len(train)-1\n",
    "test_index = len(train)\n",
    "train_index, test_index"
   ]
  },
  {
   "cell_type": "code",
   "execution_count": 8,
   "id": "e39d4686",
   "metadata": {},
   "outputs": [
    {
     "name": "stdout",
     "output_type": "stream",
     "text": [
      "<class 'pandas.core.frame.DataFrame'>\n",
      "RangeIndex: 18000 entries, 0 to 17999\n",
      "Data columns (total 9 columns):\n",
      " #   Column                          Non-Null Count  Dtype  \n",
      "---  ------                          --------------  -----  \n",
      " 0   id                              18000 non-null  int64  \n",
      " 1   distance_from_home              18000 non-null  float64\n",
      " 2   distance_from_last_transaction  18000 non-null  float64\n",
      " 3   ratio_to_median_purchase_price  18000 non-null  float64\n",
      " 4   repeat_retailer                 18000 non-null  float64\n",
      " 5   used_chip                       18000 non-null  float64\n",
      " 6   used_pin_number                 18000 non-null  float64\n",
      " 7   online_order                    18000 non-null  float64\n",
      " 8   fraud                           18000 non-null  int64  \n",
      "dtypes: float64(7), int64(2)\n",
      "memory usage: 1.2 MB\n"
     ]
    }
   ],
   "source": [
    "train.info()"
   ]
  },
  {
   "cell_type": "code",
   "execution_count": 9,
   "id": "2bff5ed3",
   "metadata": {},
   "outputs": [
    {
     "data": {
      "text/html": [
       "<div>\n",
       "<style scoped>\n",
       "    .dataframe tbody tr th:only-of-type {\n",
       "        vertical-align: middle;\n",
       "    }\n",
       "\n",
       "    .dataframe tbody tr th {\n",
       "        vertical-align: top;\n",
       "    }\n",
       "\n",
       "    .dataframe thead th {\n",
       "        text-align: right;\n",
       "    }\n",
       "</style>\n",
       "<table border=\"1\" class=\"dataframe\">\n",
       "  <thead>\n",
       "    <tr style=\"text-align: right;\">\n",
       "      <th></th>\n",
       "      <th>id</th>\n",
       "      <th>distance_from_home</th>\n",
       "      <th>distance_from_last_transaction</th>\n",
       "      <th>ratio_to_median_purchase_price</th>\n",
       "      <th>repeat_retailer</th>\n",
       "      <th>used_chip</th>\n",
       "      <th>used_pin_number</th>\n",
       "      <th>online_order</th>\n",
       "      <th>fraud</th>\n",
       "    </tr>\n",
       "  </thead>\n",
       "  <tbody>\n",
       "    <tr>\n",
       "      <th>count</th>\n",
       "      <td>18000.000000</td>\n",
       "      <td>18000.000000</td>\n",
       "      <td>18000.000000</td>\n",
       "      <td>18000.000000</td>\n",
       "      <td>18000.000000</td>\n",
       "      <td>18000.000000</td>\n",
       "      <td>18000.000000</td>\n",
       "      <td>18000.000000</td>\n",
       "      <td>18000.000000</td>\n",
       "    </tr>\n",
       "    <tr>\n",
       "      <th>mean</th>\n",
       "      <td>10004.217000</td>\n",
       "      <td>9.634483</td>\n",
       "      <td>1.194058</td>\n",
       "      <td>1.098892</td>\n",
       "      <td>0.928556</td>\n",
       "      <td>0.294222</td>\n",
       "      <td>0.047611</td>\n",
       "      <td>0.701222</td>\n",
       "      <td>0.086000</td>\n",
       "    </tr>\n",
       "    <tr>\n",
       "      <th>std</th>\n",
       "      <td>5777.289102</td>\n",
       "      <td>9.635835</td>\n",
       "      <td>2.642941</td>\n",
       "      <td>1.272369</td>\n",
       "      <td>0.257789</td>\n",
       "      <td>0.458379</td>\n",
       "      <td>0.220384</td>\n",
       "      <td>0.457735</td>\n",
       "      <td>0.280372</td>\n",
       "    </tr>\n",
       "    <tr>\n",
       "      <th>min</th>\n",
       "      <td>0.000000</td>\n",
       "      <td>0.000000</td>\n",
       "      <td>0.000000</td>\n",
       "      <td>0.000000</td>\n",
       "      <td>0.000000</td>\n",
       "      <td>0.000000</td>\n",
       "      <td>0.000000</td>\n",
       "      <td>0.000000</td>\n",
       "      <td>0.000000</td>\n",
       "    </tr>\n",
       "    <tr>\n",
       "      <th>25%</th>\n",
       "      <td>5017.750000</td>\n",
       "      <td>2.924786</td>\n",
       "      <td>0.144539</td>\n",
       "      <td>0.335077</td>\n",
       "      <td>1.000000</td>\n",
       "      <td>0.000000</td>\n",
       "      <td>0.000000</td>\n",
       "      <td>0.000000</td>\n",
       "      <td>0.000000</td>\n",
       "    </tr>\n",
       "    <tr>\n",
       "      <th>50%</th>\n",
       "      <td>9994.500000</td>\n",
       "      <td>6.181911</td>\n",
       "      <td>0.436769</td>\n",
       "      <td>0.764678</td>\n",
       "      <td>1.000000</td>\n",
       "      <td>0.000000</td>\n",
       "      <td>0.000000</td>\n",
       "      <td>1.000000</td>\n",
       "      <td>0.000000</td>\n",
       "    </tr>\n",
       "    <tr>\n",
       "      <th>75%</th>\n",
       "      <td>15005.250000</td>\n",
       "      <td>12.882383</td>\n",
       "      <td>1.073838</td>\n",
       "      <td>1.420102</td>\n",
       "      <td>1.000000</td>\n",
       "      <td>1.000000</td>\n",
       "      <td>0.000000</td>\n",
       "      <td>1.000000</td>\n",
       "      <td>0.000000</td>\n",
       "    </tr>\n",
       "    <tr>\n",
       "      <th>max</th>\n",
       "      <td>19999.000000</td>\n",
       "      <td>62.099289</td>\n",
       "      <td>51.653566</td>\n",
       "      <td>28.341698</td>\n",
       "      <td>2.000000</td>\n",
       "      <td>7.000000</td>\n",
       "      <td>8.000000</td>\n",
       "      <td>1.000000</td>\n",
       "      <td>1.000000</td>\n",
       "    </tr>\n",
       "  </tbody>\n",
       "</table>\n",
       "</div>"
      ],
      "text/plain": [
       "                 id  distance_from_home  distance_from_last_transaction  \\\n",
       "count  18000.000000        18000.000000                    18000.000000   \n",
       "mean   10004.217000            9.634483                        1.194058   \n",
       "std     5777.289102            9.635835                        2.642941   \n",
       "min        0.000000            0.000000                        0.000000   \n",
       "25%     5017.750000            2.924786                        0.144539   \n",
       "50%     9994.500000            6.181911                        0.436769   \n",
       "75%    15005.250000           12.882383                        1.073838   \n",
       "max    19999.000000           62.099289                       51.653566   \n",
       "\n",
       "       ratio_to_median_purchase_price  repeat_retailer     used_chip  \\\n",
       "count                    18000.000000     18000.000000  18000.000000   \n",
       "mean                         1.098892         0.928556      0.294222   \n",
       "std                          1.272369         0.257789      0.458379   \n",
       "min                          0.000000         0.000000      0.000000   \n",
       "25%                          0.335077         1.000000      0.000000   \n",
       "50%                          0.764678         1.000000      0.000000   \n",
       "75%                          1.420102         1.000000      1.000000   \n",
       "max                         28.341698         2.000000      7.000000   \n",
       "\n",
       "       used_pin_number  online_order         fraud  \n",
       "count     18000.000000  18000.000000  18000.000000  \n",
       "mean          0.047611      0.701222      0.086000  \n",
       "std           0.220384      0.457735      0.280372  \n",
       "min           0.000000      0.000000      0.000000  \n",
       "25%           0.000000      0.000000      0.000000  \n",
       "50%           0.000000      1.000000      0.000000  \n",
       "75%           0.000000      1.000000      0.000000  \n",
       "max           8.000000      1.000000      1.000000  "
      ]
     },
     "execution_count": 9,
     "metadata": {},
     "output_type": "execute_result"
    }
   ],
   "source": [
    "train.describe()"
   ]
  },
  {
   "cell_type": "markdown",
   "id": "eb948e5d",
   "metadata": {},
   "source": [
    "### distance from home"
   ]
  },
  {
   "cell_type": "code",
   "execution_count": 10,
   "id": "e5fcb5fb",
   "metadata": {},
   "outputs": [
    {
     "data": {
      "text/plain": [
       "17993"
      ]
     },
     "execution_count": 10,
     "metadata": {},
     "output_type": "execute_result"
    }
   ],
   "source": [
    "train.distance_from_home.nunique()"
   ]
  },
  {
   "cell_type": "code",
   "execution_count": 11,
   "id": "c4783d24",
   "metadata": {},
   "outputs": [
    {
     "data": {
      "text/plain": [
       "array([ 3.34686958, 14.48286751,  5.74089849, ...,  2.8266535 ,\n",
       "        0.82685643,  3.7350089 ])"
      ]
     },
     "execution_count": 11,
     "metadata": {},
     "output_type": "execute_result"
    }
   ],
   "source": [
    "train.distance_from_home.unique()"
   ]
  },
  {
   "cell_type": "code",
   "execution_count": 12,
   "id": "40259e68",
   "metadata": {},
   "outputs": [
    {
     "data": {
      "text/plain": [
       "distance_from_home\n",
       "0.000000     4\n",
       "8.000000     2\n",
       "3.000000     2\n",
       "1.000000     2\n",
       "7.000000     2\n",
       "            ..\n",
       "16.937881    1\n",
       "5.743241     1\n",
       "2.686027     1\n",
       "1.403830     1\n",
       "3.735009     1\n",
       "Name: count, Length: 17993, dtype: int64"
      ]
     },
     "execution_count": 12,
     "metadata": {},
     "output_type": "execute_result"
    }
   ],
   "source": [
    "train.distance_from_home.value_counts()"
   ]
  },
  {
   "cell_type": "code",
   "execution_count": 13,
   "id": "e1427ce8",
   "metadata": {},
   "outputs": [
    {
     "data": {
      "text/plain": [
       "<Axes: xlabel='distance_from_home', ylabel='Count'>"
      ]
     },
     "execution_count": 13,
     "metadata": {},
     "output_type": "execute_result"
    },
    {
     "data": {
      "image/png": "[encoded data removed]",
      "text/plain": [
       "<Figure size 1500x700 with 1 Axes>"
      ]
     },
     "metadata": {},
     "output_type": "display_data"
    }
   ],
   "source": [
    "plt.figure(figsize=(15,7))\n",
    "sns.histplot(train, bins=20, x=\"distance_from_home\", hue=\"fraud\", kde=True)"
   ]
  },
  {
   "cell_type": "markdown",
   "id": "891c2fdb",
   "metadata": {},
   "source": [
    "### my opinion\n",
    "I can be wrong but for me look like that the amount of fraude is tight to amount of transaction. In other words, even though the great amount of fraud is next to the home of the person we also can see that is the greatest amount of transaction as well."
   ]
  },
  {
   "cell_type": "markdown",
   "id": "96d157b8",
   "metadata": {},
   "source": [
    "### distance_from_last_transaction"
   ]
  },
  {
   "cell_type": "code",
   "execution_count": 14,
   "id": "178eb1fd",
   "metadata": {},
   "outputs": [
    {
     "data": {
      "text/plain": [
       "17965"
      ]
     },
     "execution_count": 14,
     "metadata": {},
     "output_type": "execute_result"
    }
   ],
   "source": [
    "train.distance_from_last_transaction.nunique()"
   ]
  },
  {
   "cell_type": "code",
   "execution_count": 15,
   "id": "88eb4f82",
   "metadata": {},
   "outputs": [
    {
     "data": {
      "image/png": "[encoded data removed]",
      "text/plain": [
       "<Figure size 1500x800 with 1 Axes>"
      ]
     },
     "metadata": {},
     "output_type": "display_data"
    }
   ],
   "source": [
    "plt.figure(figsize=(15,8))\n",
    "sns.histplot(train, x=\"distance_from_last_transaction\", hue=\"fraud\", kde=True, bins=20);"
   ]
  },
  {
   "cell_type": "markdown",
   "id": "21c13b55",
   "metadata": {},
   "source": [
    "### my opinion\n",
    "The same as the distance_from_home column"
   ]
  },
  {
   "cell_type": "markdown",
   "id": "d759cb12",
   "metadata": {},
   "source": [
    "### ratio_to_median_purchase_price"
   ]
  },
  {
   "cell_type": "code",
   "execution_count": 16,
   "id": "c871e698",
   "metadata": {},
   "outputs": [
    {
     "data": {
      "text/html": [
       "<div>\n",
       "<style scoped>\n",
       "    .dataframe tbody tr th:only-of-type {\n",
       "        vertical-align: middle;\n",
       "    }\n",
       "\n",
       "    .dataframe tbody tr th {\n",
       "        vertical-align: top;\n",
       "    }\n",
       "\n",
       "    .dataframe thead th {\n",
       "        text-align: right;\n",
       "    }\n",
       "</style>\n",
       "<table border=\"1\" class=\"dataframe\">\n",
       "  <thead>\n",
       "    <tr style=\"text-align: right;\">\n",
       "      <th></th>\n",
       "      <th>id</th>\n",
       "      <th>distance_from_home</th>\n",
       "      <th>distance_from_last_transaction</th>\n",
       "      <th>ratio_to_median_purchase_price</th>\n",
       "      <th>repeat_retailer</th>\n",
       "      <th>used_chip</th>\n",
       "      <th>used_pin_number</th>\n",
       "      <th>online_order</th>\n",
       "      <th>fraud</th>\n",
       "    </tr>\n",
       "  </thead>\n",
       "  <tbody>\n",
       "    <tr>\n",
       "      <th>0</th>\n",
       "      <td>16979</td>\n",
       "      <td>3.346870</td>\n",
       "      <td>0.620101</td>\n",
       "      <td>0.945172</td>\n",
       "      <td>1.0</td>\n",
       "      <td>0.0</td>\n",
       "      <td>0.0</td>\n",
       "      <td>1.0</td>\n",
       "      <td>0</td>\n",
       "    </tr>\n",
       "    <tr>\n",
       "      <th>1</th>\n",
       "      <td>12430</td>\n",
       "      <td>14.482868</td>\n",
       "      <td>0.170185</td>\n",
       "      <td>1.084836</td>\n",
       "      <td>1.0</td>\n",
       "      <td>0.0</td>\n",
       "      <td>0.0</td>\n",
       "      <td>1.0</td>\n",
       "      <td>0</td>\n",
       "    </tr>\n",
       "  </tbody>\n",
       "</table>\n",
       "</div>"
      ],
      "text/plain": [
       "      id  distance_from_home  distance_from_last_transaction  \\\n",
       "0  16979            3.346870                        0.620101   \n",
       "1  12430           14.482868                        0.170185   \n",
       "\n",
       "   ratio_to_median_purchase_price  repeat_retailer  used_chip  \\\n",
       "0                        0.945172              1.0        0.0   \n",
       "1                        1.084836              1.0        0.0   \n",
       "\n",
       "   used_pin_number  online_order  fraud  \n",
       "0              0.0           1.0      0  \n",
       "1              0.0           1.0      0  "
      ]
     },
     "execution_count": 16,
     "metadata": {},
     "output_type": "execute_result"
    }
   ],
   "source": [
    "train.head(2)"
   ]
  },
  {
   "cell_type": "code",
   "execution_count": 17,
   "id": "a3ae4feb",
   "metadata": {},
   "outputs": [
    {
     "data": {
      "text/plain": [
       "17981"
      ]
     },
     "execution_count": 17,
     "metadata": {},
     "output_type": "execute_result"
    }
   ],
   "source": [
    "train.ratio_to_median_purchase_price.nunique()"
   ]
  },
  {
   "cell_type": "code",
   "execution_count": 18,
   "id": "00cf59ec",
   "metadata": {},
   "outputs": [
    {
     "data": {
      "text/plain": [
       "<Axes: xlabel='ratio_to_median_purchase_price', ylabel='Count'>"
      ]
     },
     "execution_count": 18,
     "metadata": {},
     "output_type": "execute_result"
    },
    {
     "data": {
      "image/png": "[encoded data removed]",
      "text/plain": [
       "<Figure size 1500x700 with 1 Axes>"
      ]
     },
     "metadata": {},
     "output_type": "display_data"
    }
   ],
   "source": [
    "plt.figure(figsize=(15,7))\n",
    "sns.histplot(train, x=\"ratio_to_median_purchase_price\", kde=True, bins=20, hue=\"fraud\")"
   ]
  },
  {
   "cell_type": "code",
   "execution_count": 19,
   "id": "5916a3e3",
   "metadata": {},
   "outputs": [
    {
     "data": {
      "text/plain": [
       "ratio_to_median_purchase_price\n",
       "False    17981\n",
       "True        19\n",
       "Name: count, dtype: int64"
      ]
     },
     "execution_count": 19,
     "metadata": {},
     "output_type": "execute_result"
    }
   ],
   "source": [
    "train.ratio_to_median_purchase_price.duplicated().value_counts()"
   ]
  },
  {
   "cell_type": "markdown",
   "id": "5cc8e0c2",
   "metadata": {},
   "source": [
    "### my opinion\n",
    "the same as the distance_from_home column"
   ]
  },
  {
   "cell_type": "markdown",
   "id": "44b74ca5",
   "metadata": {},
   "source": [
    "### repeat_retailer"
   ]
  },
  {
   "cell_type": "code",
   "execution_count": 20,
   "id": "3c841f70",
   "metadata": {},
   "outputs": [
    {
     "data": {
      "text/html": [
       "<div>\n",
       "<style scoped>\n",
       "    .dataframe tbody tr th:only-of-type {\n",
       "        vertical-align: middle;\n",
       "    }\n",
       "\n",
       "    .dataframe tbody tr th {\n",
       "        vertical-align: top;\n",
       "    }\n",
       "\n",
       "    .dataframe thead th {\n",
       "        text-align: right;\n",
       "    }\n",
       "</style>\n",
       "<table border=\"1\" class=\"dataframe\">\n",
       "  <thead>\n",
       "    <tr style=\"text-align: right;\">\n",
       "      <th></th>\n",
       "      <th>id</th>\n",
       "      <th>distance_from_home</th>\n",
       "      <th>distance_from_last_transaction</th>\n",
       "      <th>ratio_to_median_purchase_price</th>\n",
       "      <th>repeat_retailer</th>\n",
       "      <th>used_chip</th>\n",
       "      <th>used_pin_number</th>\n",
       "      <th>online_order</th>\n",
       "      <th>fraud</th>\n",
       "    </tr>\n",
       "  </thead>\n",
       "  <tbody>\n",
       "    <tr>\n",
       "      <th>0</th>\n",
       "      <td>16979</td>\n",
       "      <td>3.346870</td>\n",
       "      <td>0.620101</td>\n",
       "      <td>0.945172</td>\n",
       "      <td>1.0</td>\n",
       "      <td>0.0</td>\n",
       "      <td>0.0</td>\n",
       "      <td>1.0</td>\n",
       "      <td>0</td>\n",
       "    </tr>\n",
       "    <tr>\n",
       "      <th>1</th>\n",
       "      <td>12430</td>\n",
       "      <td>14.482868</td>\n",
       "      <td>0.170185</td>\n",
       "      <td>1.084836</td>\n",
       "      <td>1.0</td>\n",
       "      <td>0.0</td>\n",
       "      <td>0.0</td>\n",
       "      <td>1.0</td>\n",
       "      <td>0</td>\n",
       "    </tr>\n",
       "  </tbody>\n",
       "</table>\n",
       "</div>"
      ],
      "text/plain": [
       "      id  distance_from_home  distance_from_last_transaction  \\\n",
       "0  16979            3.346870                        0.620101   \n",
       "1  12430           14.482868                        0.170185   \n",
       "\n",
       "   ratio_to_median_purchase_price  repeat_retailer  used_chip  \\\n",
       "0                        0.945172              1.0        0.0   \n",
       "1                        1.084836              1.0        0.0   \n",
       "\n",
       "   used_pin_number  online_order  fraud  \n",
       "0              0.0           1.0      0  \n",
       "1              0.0           1.0      0  "
      ]
     },
     "execution_count": 20,
     "metadata": {},
     "output_type": "execute_result"
    }
   ],
   "source": [
    "train.head(2)"
   ]
  },
  {
   "cell_type": "code",
   "execution_count": 21,
   "id": "b838bf3d",
   "metadata": {},
   "outputs": [
    {
     "data": {
      "text/plain": [
       "3"
      ]
     },
     "execution_count": 21,
     "metadata": {},
     "output_type": "execute_result"
    }
   ],
   "source": [
    "train.repeat_retailer.nunique()"
   ]
  },
  {
   "cell_type": "code",
   "execution_count": 22,
   "id": "7fc26ec2",
   "metadata": {},
   "outputs": [
    {
     "data": {
      "text/plain": [
       "array([1., 0., 2.])"
      ]
     },
     "execution_count": 22,
     "metadata": {},
     "output_type": "execute_result"
    }
   ],
   "source": [
    "train.repeat_retailer.unique()"
   ]
  },
  {
   "cell_type": "code",
   "execution_count": 23,
   "id": "ba466365",
   "metadata": {},
   "outputs": [
    {
     "data": {
      "text/plain": [
       "<Axes: xlabel='repeat_retailer', ylabel='count'>"
      ]
     },
     "execution_count": 23,
     "metadata": {},
     "output_type": "execute_result"
    },
    {
     "data": {
      "image/png": "[encoded data removed]",
      "text/plain": [
       "<Figure size 1500x700 with 1 Axes>"
      ]
     },
     "metadata": {},
     "output_type": "display_data"
    }
   ],
   "source": [
    "plt.figure(figsize=(15,7))\n",
    "sns.countplot(train, x=\"repeat_retailer\", hue=\"fraud\")"
   ]
  },
  {
   "cell_type": "markdown",
   "id": "425e9c1c",
   "metadata": {},
   "source": [
    "### my opinion\n",
    "Im not sure what this numbers 0, 1, and 2 are in this column. I need to find a way to interpret this. for now let keep moving. "
   ]
  },
  {
   "cell_type": "markdown",
   "id": "60213659",
   "metadata": {},
   "source": [
    "### used_chip"
   ]
  },
  {
   "cell_type": "code",
   "execution_count": 24,
   "id": "ba8c92e5",
   "metadata": {},
   "outputs": [
    {
     "data": {
      "text/html": [
       "<div>\n",
       "<style scoped>\n",
       "    .dataframe tbody tr th:only-of-type {\n",
       "        vertical-align: middle;\n",
       "    }\n",
       "\n",
       "    .dataframe tbody tr th {\n",
       "        vertical-align: top;\n",
       "    }\n",
       "\n",
       "    .dataframe thead th {\n",
       "        text-align: right;\n",
       "    }\n",
       "</style>\n",
       "<table border=\"1\" class=\"dataframe\">\n",
       "  <thead>\n",
       "    <tr style=\"text-align: right;\">\n",
       "      <th></th>\n",
       "      <th>id</th>\n",
       "      <th>distance_from_home</th>\n",
       "      <th>distance_from_last_transaction</th>\n",
       "      <th>ratio_to_median_purchase_price</th>\n",
       "      <th>repeat_retailer</th>\n",
       "      <th>used_chip</th>\n",
       "      <th>used_pin_number</th>\n",
       "      <th>online_order</th>\n",
       "      <th>fraud</th>\n",
       "    </tr>\n",
       "  </thead>\n",
       "  <tbody>\n",
       "    <tr>\n",
       "      <th>17998</th>\n",
       "      <td>10839</td>\n",
       "      <td>0.826856</td>\n",
       "      <td>0.164881</td>\n",
       "      <td>2.827485</td>\n",
       "      <td>0.0</td>\n",
       "      <td>0.0</td>\n",
       "      <td>0.0</td>\n",
       "      <td>1.0</td>\n",
       "      <td>0</td>\n",
       "    </tr>\n",
       "    <tr>\n",
       "      <th>17999</th>\n",
       "      <td>5820</td>\n",
       "      <td>3.735009</td>\n",
       "      <td>0.067014</td>\n",
       "      <td>0.241356</td>\n",
       "      <td>1.0</td>\n",
       "      <td>0.0</td>\n",
       "      <td>0.0</td>\n",
       "      <td>1.0</td>\n",
       "      <td>0</td>\n",
       "    </tr>\n",
       "  </tbody>\n",
       "</table>\n",
       "</div>"
      ],
      "text/plain": [
       "          id  distance_from_home  distance_from_last_transaction  \\\n",
       "17998  10839            0.826856                        0.164881   \n",
       "17999   5820            3.735009                        0.067014   \n",
       "\n",
       "       ratio_to_median_purchase_price  repeat_retailer  used_chip  \\\n",
       "17998                        2.827485              0.0        0.0   \n",
       "17999                        0.241356              1.0        0.0   \n",
       "\n",
       "       used_pin_number  online_order  fraud  \n",
       "17998              0.0           1.0      0  \n",
       "17999              0.0           1.0      0  "
      ]
     },
     "execution_count": 24,
     "metadata": {},
     "output_type": "execute_result"
    }
   ],
   "source": [
    "train.tail(2)"
   ]
  },
  {
   "cell_type": "code",
   "execution_count": 25,
   "id": "6041603c",
   "metadata": {},
   "outputs": [
    {
     "data": {
      "text/plain": [
       "<Axes: xlabel='used_chip', ylabel='count'>"
      ]
     },
     "execution_count": 25,
     "metadata": {},
     "output_type": "execute_result"
    },
    {
     "data": {
      "image/png": "[encoded data removed]",
      "text/plain": [
       "<Figure size 1500x700 with 1 Axes>"
      ]
     },
     "metadata": {},
     "output_type": "display_data"
    }
   ],
   "source": [
    "fig, ax = plt.subplots(figsize=(15,7))\n",
    "sns.countplot(train, x=\"used_chip\", hue=\"fraud\")"
   ]
  },
  {
   "cell_type": "markdown",
   "id": "701768d0",
   "metadata": {},
   "source": [
    "### my opinion\n",
    "The more the client uses credit card with chip the more fraud are"
   ]
  },
  {
   "cell_type": "code",
   "execution_count": 26,
   "id": "cae15886",
   "metadata": {},
   "outputs": [
    {
     "data": {
      "text/html": [
       "<div>\n",
       "<style scoped>\n",
       "    .dataframe tbody tr th:only-of-type {\n",
       "        vertical-align: middle;\n",
       "    }\n",
       "\n",
       "    .dataframe tbody tr th {\n",
       "        vertical-align: top;\n",
       "    }\n",
       "\n",
       "    .dataframe thead th {\n",
       "        text-align: right;\n",
       "    }\n",
       "</style>\n",
       "<table border=\"1\" class=\"dataframe\">\n",
       "  <thead>\n",
       "    <tr style=\"text-align: right;\">\n",
       "      <th></th>\n",
       "      <th>id</th>\n",
       "      <th>distance_from_home</th>\n",
       "      <th>distance_from_last_transaction</th>\n",
       "      <th>ratio_to_median_purchase_price</th>\n",
       "      <th>repeat_retailer</th>\n",
       "      <th>used_chip</th>\n",
       "      <th>used_pin_number</th>\n",
       "      <th>online_order</th>\n",
       "      <th>fraud</th>\n",
       "    </tr>\n",
       "  </thead>\n",
       "  <tbody>\n",
       "    <tr>\n",
       "      <th>0</th>\n",
       "      <td>16979</td>\n",
       "      <td>3.346870</td>\n",
       "      <td>0.620101</td>\n",
       "      <td>0.945172</td>\n",
       "      <td>1.0</td>\n",
       "      <td>0.0</td>\n",
       "      <td>0.0</td>\n",
       "      <td>1.0</td>\n",
       "      <td>0</td>\n",
       "    </tr>\n",
       "    <tr>\n",
       "      <th>1</th>\n",
       "      <td>12430</td>\n",
       "      <td>14.482868</td>\n",
       "      <td>0.170185</td>\n",
       "      <td>1.084836</td>\n",
       "      <td>1.0</td>\n",
       "      <td>0.0</td>\n",
       "      <td>0.0</td>\n",
       "      <td>1.0</td>\n",
       "      <td>0</td>\n",
       "    </tr>\n",
       "  </tbody>\n",
       "</table>\n",
       "</div>"
      ],
      "text/plain": [
       "      id  distance_from_home  distance_from_last_transaction  \\\n",
       "0  16979            3.346870                        0.620101   \n",
       "1  12430           14.482868                        0.170185   \n",
       "\n",
       "   ratio_to_median_purchase_price  repeat_retailer  used_chip  \\\n",
       "0                        0.945172              1.0        0.0   \n",
       "1                        1.084836              1.0        0.0   \n",
       "\n",
       "   used_pin_number  online_order  fraud  \n",
       "0              0.0           1.0      0  \n",
       "1              0.0           1.0      0  "
      ]
     },
     "execution_count": 26,
     "metadata": {},
     "output_type": "execute_result"
    }
   ],
   "source": [
    "train.head(2)"
   ]
  },
  {
   "cell_type": "markdown",
   "id": "65a2997e",
   "metadata": {},
   "source": [
    "### used_pin_number"
   ]
  },
  {
   "cell_type": "code",
   "execution_count": 27,
   "id": "2e97cc26",
   "metadata": {},
   "outputs": [
    {
     "data": {
      "text/plain": [
       "<Axes: xlabel='used_pin_number', ylabel='count'>"
      ]
     },
     "execution_count": 27,
     "metadata": {},
     "output_type": "execute_result"
    },
    {
     "data": {
      "image/png": "[encoded data removed]",
      "text/plain": [
       "<Figure size 1500x700 with 1 Axes>"
      ]
     },
     "metadata": {},
     "output_type": "display_data"
    }
   ],
   "source": [
    "fig, ax = plt.subplots(figsize=(15, 7))\n",
    "sns.countplot(train, x=\"used_pin_number\", hue=\"fraud\")"
   ]
  },
  {
   "cell_type": "markdown",
   "id": "5aa0e914",
   "metadata": {},
   "source": [
    "### my opinion\n",
    "I can't see any pattern so far"
   ]
  },
  {
   "cell_type": "markdown",
   "id": "6af8cc9c",
   "metadata": {},
   "source": [
    "### online_order"
   ]
  },
  {
   "cell_type": "code",
   "execution_count": 28,
   "id": "303a4b10",
   "metadata": {},
   "outputs": [
    {
     "data": {
      "text/plain": [
       "<Axes: xlabel='online_order', ylabel='count'>"
      ]
     },
     "execution_count": 28,
     "metadata": {},
     "output_type": "execute_result"
    },
    {
     "data": {
      "image/png": "[encoded data removed]",
      "text/plain": [
       "<Figure size 1500x700 with 1 Axes>"
      ]
     },
     "metadata": {},
     "output_type": "display_data"
    }
   ],
   "source": [
    "fig, ax = plt.subplots(figsize=(15,7))\n",
    "sns.countplot(train, x=\"online_order\", hue=\"fraud\")"
   ]
  },
  {
   "cell_type": "markdown",
   "id": "15b3ed4c",
   "metadata": {},
   "source": [
    "### my opinion\n",
    "Any pattern so far for all columns"
   ]
  },
  {
   "cell_type": "code",
   "execution_count": 29,
   "id": "59083ec9",
   "metadata": {},
   "outputs": [
    {
     "data": {
      "text/plain": [
       "(2000, 8)"
      ]
     },
     "execution_count": 29,
     "metadata": {},
     "output_type": "execute_result"
    }
   ],
   "source": [
    "test.shape"
   ]
  },
  {
   "cell_type": "markdown",
   "id": "f8488dc4",
   "metadata": {},
   "source": [
    "# Preprocessing "
   ]
  },
  {
   "cell_type": "markdown",
   "id": "dfc5b54c",
   "metadata": {},
   "source": [
    "Apply normalization to:\n",
    "> - distance_from_home\n",
    "> - distance_from_last_transaction\n",
    "> - ratio_to_median_purchase_price"
   ]
  },
  {
   "cell_type": "code",
   "execution_count": 30,
   "id": "58bcb5b8",
   "metadata": {},
   "outputs": [
    {
     "data": {
      "text/html": [
       "<div>\n",
       "<style scoped>\n",
       "    .dataframe tbody tr th:only-of-type {\n",
       "        vertical-align: middle;\n",
       "    }\n",
       "\n",
       "    .dataframe tbody tr th {\n",
       "        vertical-align: top;\n",
       "    }\n",
       "\n",
       "    .dataframe thead th {\n",
       "        text-align: right;\n",
       "    }\n",
       "</style>\n",
       "<table border=\"1\" class=\"dataframe\">\n",
       "  <thead>\n",
       "    <tr style=\"text-align: right;\">\n",
       "      <th></th>\n",
       "      <th>id</th>\n",
       "      <th>distance_from_home</th>\n",
       "      <th>distance_from_last_transaction</th>\n",
       "      <th>ratio_to_median_purchase_price</th>\n",
       "      <th>repeat_retailer</th>\n",
       "      <th>used_chip</th>\n",
       "      <th>used_pin_number</th>\n",
       "      <th>online_order</th>\n",
       "      <th>fraud</th>\n",
       "    </tr>\n",
       "  </thead>\n",
       "  <tbody>\n",
       "    <tr>\n",
       "      <th>0</th>\n",
       "      <td>16979</td>\n",
       "      <td>-0.652542</td>\n",
       "      <td>-0.217172</td>\n",
       "      <td>-0.120818</td>\n",
       "      <td>1.0</td>\n",
       "      <td>0.0</td>\n",
       "      <td>0.0</td>\n",
       "      <td>1.0</td>\n",
       "      <td>0</td>\n",
       "    </tr>\n",
       "    <tr>\n",
       "      <th>1</th>\n",
       "      <td>12430</td>\n",
       "      <td>0.503176</td>\n",
       "      <td>-0.387410</td>\n",
       "      <td>-0.011047</td>\n",
       "      <td>1.0</td>\n",
       "      <td>0.0</td>\n",
       "      <td>0.0</td>\n",
       "      <td>1.0</td>\n",
       "      <td>0</td>\n",
       "    </tr>\n",
       "    <tr>\n",
       "      <th>2</th>\n",
       "      <td>19872</td>\n",
       "      <td>-0.404085</td>\n",
       "      <td>-0.388416</td>\n",
       "      <td>2.256295</td>\n",
       "      <td>1.0</td>\n",
       "      <td>0.0</td>\n",
       "      <td>0.0</td>\n",
       "      <td>1.0</td>\n",
       "      <td>0</td>\n",
       "    </tr>\n",
       "    <tr>\n",
       "      <th>3</th>\n",
       "      <td>18763</td>\n",
       "      <td>-0.574529</td>\n",
       "      <td>-0.341375</td>\n",
       "      <td>-0.797560</td>\n",
       "      <td>1.0</td>\n",
       "      <td>1.0</td>\n",
       "      <td>0.0</td>\n",
       "      <td>1.0</td>\n",
       "      <td>1</td>\n",
       "    </tr>\n",
       "    <tr>\n",
       "      <th>4</th>\n",
       "      <td>13547</td>\n",
       "      <td>-0.217414</td>\n",
       "      <td>-0.340395</td>\n",
       "      <td>1.408426</td>\n",
       "      <td>1.0</td>\n",
       "      <td>1.0</td>\n",
       "      <td>0.0</td>\n",
       "      <td>0.0</td>\n",
       "      <td>0</td>\n",
       "    </tr>\n",
       "    <tr>\n",
       "      <th>...</th>\n",
       "      <td>...</td>\n",
       "      <td>...</td>\n",
       "      <td>...</td>\n",
       "      <td>...</td>\n",
       "      <td>...</td>\n",
       "      <td>...</td>\n",
       "      <td>...</td>\n",
       "      <td>...</td>\n",
       "      <td>...</td>\n",
       "    </tr>\n",
       "    <tr>\n",
       "      <th>17995</th>\n",
       "      <td>11193</td>\n",
       "      <td>-0.149710</td>\n",
       "      <td>-0.339837</td>\n",
       "      <td>-0.068854</td>\n",
       "      <td>1.0</td>\n",
       "      <td>0.0</td>\n",
       "      <td>0.0</td>\n",
       "      <td>1.0</td>\n",
       "      <td>0</td>\n",
       "    </tr>\n",
       "    <tr>\n",
       "      <th>17996</th>\n",
       "      <td>10245</td>\n",
       "      <td>0.048156</td>\n",
       "      <td>-0.057358</td>\n",
       "      <td>1.552205</td>\n",
       "      <td>1.0</td>\n",
       "      <td>0.0</td>\n",
       "      <td>0.0</td>\n",
       "      <td>1.0</td>\n",
       "      <td>0</td>\n",
       "    </tr>\n",
       "    <tr>\n",
       "      <th>17997</th>\n",
       "      <td>5660</td>\n",
       "      <td>-0.706531</td>\n",
       "      <td>-0.416475</td>\n",
       "      <td>-0.826017</td>\n",
       "      <td>1.0</td>\n",
       "      <td>1.0</td>\n",
       "      <td>0.0</td>\n",
       "      <td>0.0</td>\n",
       "      <td>0</td>\n",
       "    </tr>\n",
       "    <tr>\n",
       "      <th>17998</th>\n",
       "      <td>10839</td>\n",
       "      <td>-0.914074</td>\n",
       "      <td>-0.389417</td>\n",
       "      <td>1.358600</td>\n",
       "      <td>0.0</td>\n",
       "      <td>0.0</td>\n",
       "      <td>0.0</td>\n",
       "      <td>1.0</td>\n",
       "      <td>0</td>\n",
       "    </tr>\n",
       "    <tr>\n",
       "      <th>17999</th>\n",
       "      <td>5820</td>\n",
       "      <td>-0.612260</td>\n",
       "      <td>-0.426447</td>\n",
       "      <td>-0.673987</td>\n",
       "      <td>1.0</td>\n",
       "      <td>0.0</td>\n",
       "      <td>0.0</td>\n",
       "      <td>1.0</td>\n",
       "      <td>0</td>\n",
       "    </tr>\n",
       "  </tbody>\n",
       "</table>\n",
       "<p>18000 rows × 9 columns</p>\n",
       "</div>"
      ],
      "text/plain": [
       "          id  distance_from_home  distance_from_last_transaction  \\\n",
       "0      16979           -0.652542                       -0.217172   \n",
       "1      12430            0.503176                       -0.387410   \n",
       "2      19872           -0.404085                       -0.388416   \n",
       "3      18763           -0.574529                       -0.341375   \n",
       "4      13547           -0.217414                       -0.340395   \n",
       "...      ...                 ...                             ...   \n",
       "17995  11193           -0.149710                       -0.339837   \n",
       "17996  10245            0.048156                       -0.057358   \n",
       "17997   5660           -0.706531                       -0.416475   \n",
       "17998  10839           -0.914074                       -0.389417   \n",
       "17999   5820           -0.612260                       -0.426447   \n",
       "\n",
       "       ratio_to_median_purchase_price  repeat_retailer  used_chip  \\\n",
       "0                           -0.120818              1.0        0.0   \n",
       "1                           -0.011047              1.0        0.0   \n",
       "2                            2.256295              1.0        0.0   \n",
       "3                           -0.797560              1.0        1.0   \n",
       "4                            1.408426              1.0        1.0   \n",
       "...                               ...              ...        ...   \n",
       "17995                       -0.068854              1.0        0.0   \n",
       "17996                        1.552205              1.0        0.0   \n",
       "17997                       -0.826017              1.0        1.0   \n",
       "17998                        1.358600              0.0        0.0   \n",
       "17999                       -0.673987              1.0        0.0   \n",
       "\n",
       "       used_pin_number  online_order  fraud  \n",
       "0                  0.0           1.0      0  \n",
       "1                  0.0           1.0      0  \n",
       "2                  0.0           1.0      0  \n",
       "3                  0.0           1.0      1  \n",
       "4                  0.0           0.0      0  \n",
       "...                ...           ...    ...  \n",
       "17995              0.0           1.0      0  \n",
       "17996              0.0           1.0      0  \n",
       "17997              0.0           0.0      0  \n",
       "17998              0.0           1.0      0  \n",
       "17999              0.0           1.0      0  \n",
       "\n",
       "[18000 rows x 9 columns]"
      ]
     },
     "execution_count": 30,
     "metadata": {},
     "output_type": "execute_result"
    }
   ],
   "source": [
    "## applying StardandScaler to the columns above\n",
    "scaler = StandardScaler()\n",
    "\n",
    "train[[\"distance_from_home\", \"distance_from_last_transaction\", \"ratio_to_median_purchase_price\"]] = scaler.fit_transform(train[[\"distance_from_home\", \"distance_from_last_transaction\", \"ratio_to_median_purchase_price\"]])\n",
    "train"
   ]
  },
  {
   "cell_type": "code",
   "execution_count": null,
   "id": "1e20fd2c",
   "metadata": {},
   "outputs": [],
   "source": []
  },
  {
   "cell_type": "markdown",
   "id": "aa04659a",
   "metadata": {},
   "source": [
    "## split data manually"
   ]
  },
  {
   "cell_type": "code",
   "execution_count": 36,
   "id": "5c386592",
   "metadata": {},
   "outputs": [
    {
     "data": {
      "text/plain": [
       "(18000,)"
      ]
     },
     "execution_count": 36,
     "metadata": {},
     "output_type": "execute_result"
    }
   ],
   "source": [
    "# train_label = train[\"fraud\"]\n",
    "# train_data = train.drop(\"fraud\")\n",
    "# train_data.shape, train_label.shape\n",
    "\n",
    "train_label = train.fraud\n",
    "train_label.shape"
   ]
  },
  {
   "cell_type": "code",
   "execution_count": 37,
   "id": "312a87fb",
   "metadata": {},
   "outputs": [
    {
     "data": {
      "text/plain": [
       "(18000, 8)"
      ]
     },
     "execution_count": 37,
     "metadata": {},
     "output_type": "execute_result"
    }
   ],
   "source": [
    "train_data = train.drop(\"fraud\", axis=1)\n",
    "train_data.shape"
   ]
  },
  {
   "cell_type": "markdown",
   "id": "60d3b454",
   "metadata": {},
   "source": [
    "# Create the Models"
   ]
  },
  {
   "cell_type": "markdown",
   "id": "52d9f417",
   "metadata": {},
   "source": [
    "## Naive Bayes"
   ]
  },
  {
   "cell_type": "code",
   "execution_count": null,
   "id": "20b634a5",
   "metadata": {},
   "outputs": [],
   "source": []
  },
  {
   "cell_type": "code",
   "execution_count": null,
   "id": "496b96f7",
   "metadata": {},
   "outputs": [],
   "source": []
  },
  {
   "cell_type": "code",
   "execution_count": null,
   "id": "fc17922a",
   "metadata": {},
   "outputs": [],
   "source": []
  },
  {
   "cell_type": "code",
   "execution_count": null,
   "id": "6db1bdc9",
   "metadata": {},
   "outputs": [],
   "source": []
  },
  {
   "cell_type": "code",
   "execution_count": null,
   "id": "1e824b68",
   "metadata": {},
   "outputs": [],
   "source": []
  }
 ],
 "metadata": {
  "kernelspec": {
   "display_name": "Python 3 (ipykernel)",
   "language": "python",
   "name": "python3"
  },
  "language_info": {
   "codemirror_mode": {
    "name": "ipython",
    "version": 3
   },
   "file_extension": ".py",
   "mimetype": "text/x-python",
   "name": "python",
   "nbconvert_exporter": "python",
   "pygments_lexer": "ipython3",
   "version": "3.11.5"
  }
 },
 "nbformat": 4,
 "nbformat_minor": 5
}
