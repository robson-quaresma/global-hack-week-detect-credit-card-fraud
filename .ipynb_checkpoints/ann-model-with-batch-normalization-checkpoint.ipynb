{
 "cells": [
  {
   "cell_type": "markdown",
   "id": "7a6c74ae",
   "metadata": {},
   "source": [
    "# Goal\n",
    "\n",
    "Prevent a credit card fraud: when a bad actor uses someone else's credit card information to make a purchase without their permission."
   ]
  },
  {
   "cell_type": "markdown",
   "id": "31851360",
   "metadata": {},
   "source": [
    "**Columns**:\n",
    "- **distance_from_home** - the distance from home where the transaction happened.\n",
    "- **distance_from_last_transaction** - the distance from last transaction happened.\n",
    "- **ratio_to_median_purchase_price** - Ratio of purchased price transaction to median purchase price.\n",
    "- **repeat_retailer** - Is the transaction happened from same retailer.\n",
    "- **used_chip** - Is the transaction through chip (credit card).\n",
    "- **used_pin_number** - Is the transaction happened by using PIN number.\n",
    "- **online_order** - Is the transaction an online order.\n",
    "- **fraud** - Is the transaction fraudulent. This is what we're trying to predict."
   ]
  },
  {
   "cell_type": "markdown",
   "id": "1f4934b1",
   "metadata": {},
   "source": [
    "# Imports"
   ]
  },
  {
   "cell_type": "markdown",
   "id": "a5a9d6a1",
   "metadata": {},
   "source": [
    "## libraries"
   ]
  },
  {
   "cell_type": "code",
   "execution_count": 35,
   "id": "b1f9b10c",
   "metadata": {},
   "outputs": [],
   "source": [
    "# number crunching\n",
    "import numpy as np\n",
    "import pandas as pd\n",
    "import scipy.stats as stats\n",
    "\n",
    "# PyTorch\n",
    "import torch\n",
    "import torch.nn as nn\n",
    "import torch.nn.functional as F\n",
    "from torch.utils.data import DataLoader, TensorDataset\n",
    "from sklearn.model_selection import train_test_split\n",
    "\n",
    "# visualization\n",
    "import matplotlib.pyplot as plt"
   ]
  },
  {
   "cell_type": "markdown",
   "id": "9d754a05",
   "metadata": {},
   "source": [
    "## data"
   ]
  },
  {
   "cell_type": "code",
   "execution_count": 36,
   "id": "e690eaaf",
   "metadata": {},
   "outputs": [],
   "source": [
    "train = pd.read_csv(\"train.csv\")\n",
    "test = pd.read_csv(\"test.csv\")"
   ]
  },
  {
   "cell_type": "markdown",
   "id": "212c6060",
   "metadata": {},
   "source": [
    "---"
   ]
  },
  {
   "cell_type": "markdown",
   "id": "181730ea-00a1-41f4-ac33-ab4db29c879c",
   "metadata": {},
   "source": [
    "# Create Batches"
   ]
  },
  {
   "cell_type": "code",
   "execution_count": 77,
   "id": "07170bed-f3a5-4255-be0d-04dbd33f1307",
   "metadata": {},
   "outputs": [],
   "source": [
    "# features\n",
    "data = train.drop(['id', 'fraud'], axis=1).copy()\n",
    "data = torch.tensor(data.values).float()\n",
    "#data"
   ]
  },
  {
   "cell_type": "code",
   "execution_count": 78,
   "id": "f133806c-eaae-4b1e-826e-775d9269f36d",
   "metadata": {},
   "outputs": [],
   "source": [
    "# target\n",
    "label = train.fraud.copy()\n",
    "label = torch.tensor(label.values).float()\n",
    "label = label[:, None] # transform to matrix (prevent error input.size)"
   ]
  },
  {
   "cell_type": "code",
   "execution_count": 79,
   "id": "4c149a6f-9c80-493f-a33c-9caebf5cc68a",
   "metadata": {},
   "outputs": [],
   "source": [
    "# split data\n",
    "X_train, X_test, y_train, y_test = train_test_split(data, label, test_size=0.25)"
   ]
  },
  {
   "cell_type": "code",
   "execution_count": 80,
   "id": "e3dffd7b-2f92-43c2-ae49-fd032366def7",
   "metadata": {},
   "outputs": [],
   "source": [
    "# convert to PyTorch datasets\n",
    "train_dataset = TensorDataset(X_train, y_train)\n",
    "test_dataset = TensorDataset(X_test, y_test)"
   ]
  },
  {
   "cell_type": "code",
   "execution_count": 89,
   "id": "14864a9d-e2dd-4124-892e-da170e50990e",
   "metadata": {},
   "outputs": [],
   "source": [
    "# train and test dataloader\n",
    "test_loader = DataLoader(test_dataset, batch_size=test_dataset.tensors[0].shape[0])\n",
    "train_loader = DataLoader(train_dataset, batch_size=128, shuffle=True, drop_last=True)"
   ]
  },
  {
   "cell_type": "markdown",
   "id": "2e0ac2f0-040a-425b-b5e0-946b705906fe",
   "metadata": {},
   "source": [
    "# Model"
   ]
  },
  {
   "cell_type": "markdown",
   "id": "4dc5a4ed-1ddf-4dd6-bf9f-51b316b2a3c7",
   "metadata": {},
   "source": [
    "## Create"
   ]
  },
  {
   "cell_type": "code",
   "execution_count": 82,
   "id": "d3535137-3301-4e68-ac8e-0e8839f1beb0",
   "metadata": {},
   "outputs": [],
   "source": [
    "\n",
    "class PCCFModelSimple(nn.Module):\n",
    "    def __init__(self):\n",
    "        super().__init__()\n",
    "\n",
    "        # input\n",
    "        self.input = nn.Linear(7, 50)\n",
    "                \n",
    "        self.h1 = nn.Linear(50,30)\n",
    "        self.h2 = nn.Linear(30,50)\n",
    "\n",
    "        # output\n",
    "        self.output = nn.Linear(50, 1)\n",
    "\n",
    "    def forward(self, x):\n",
    "        # input\n",
    "        x = F.relu( self.input(x) )\n",
    "        x = self.h1(x)\n",
    "        x = F.relu(x)\n",
    "        x = self.h2(x)\n",
    "        x = F.relu(x)            \n",
    "\n",
    "        # output\n",
    "        return self.output(x)\n",
    "            \n",
    "        "
   ]
  },
  {
   "cell_type": "code",
   "execution_count": 83,
   "id": "4594e442-85c7-4ffa-9386-571e299b67c0",
   "metadata": {},
   "outputs": [],
   "source": [
    "\n",
    "class PCCFModel(nn.Module):\n",
    "    def __init__(self):\n",
    "        super().__init__()\n",
    "\n",
    "        # input\n",
    "        self.input = nn.Linear(7, 50)\n",
    "                \n",
    "        self.h1 = nn.Linear(50,50)\n",
    "        self.b1 = nn.BatchNorm1d(50)\n",
    "        self.h2 = nn.Linear(50,50)\n",
    "        self.b2 = nn.BatchNorm1d(50)\n",
    "\n",
    "        # output\n",
    "        self.output = nn.Linear(50, 1)\n",
    "\n",
    "    def forward(self, x, doBN):\n",
    "        # input\n",
    "        x = F.relu( self.input(x) )\n",
    "        x = self.h1(x)\n",
    "        x = F.relu(x)\n",
    "        x = self.h2(x)\n",
    "        x = F.relu(x)\n",
    "\n",
    "        # batch normalization?\n",
    "        if doBN:\n",
    "            # hidden layers\n",
    "            x = self.b1(x)\n",
    "            x = self.h1(x)\n",
    "            x = F.relu(x)\n",
    "            x = self.b2(x)\n",
    "            x = self.h2(x)\n",
    "            x = F.relu(x)\n",
    "\n",
    "        else:\n",
    "            x = self.h1(x)\n",
    "            x = F.relu(x)\n",
    "            x = self.h2(x)\n",
    "            x = F.relu(x)\n",
    "            \n",
    "\n",
    "        # output\n",
    "        return self.output(x)\n",
    "            \n",
    "        "
   ]
  },
  {
   "cell_type": "markdown",
   "id": "3e3b461e-826b-4b88-943e-46bee5fcd0e0",
   "metadata": {},
   "source": [
    "## Training function"
   ]
  },
  {
   "cell_type": "code",
   "execution_count": 84,
   "id": "8a3bef7a-6533-4406-8752-ccffd626228b",
   "metadata": {},
   "outputs": [],
   "source": [
    "# a fixed parameter\n",
    "numepochs = 1000\n",
    "\n",
    "# Simple\n",
    "def trainTheModelSimple(model):\n",
    "    lossfun = nn.BCEWithLogitsLoss()\n",
    "    optimizeer = torch.optim.SGD(model.parameters(), lr=.01)\n",
    "    \n",
    "    # initialize losses\n",
    "    losses = torch.zeros(numepochs)\n",
    "    trainAcc = []\n",
    "\n",
    "    for epochi in range(numepochs):\n",
    "        yHat = model(data)\n",
    "\n",
    "        # compute loss \n",
    "        loss = lossfun(yHat, label)\n",
    "        losses[epochi] = loss\n",
    "\n",
    "        # backprop\n",
    "        optimizeer.zero_grad()\n",
    "        loss.backward()\n",
    "        optimizeer.step()\n",
    "\n",
    "        # our own solution for calculate acc\n",
    "        trainAcc.append(100*torch.mean(((yHat>0) == label).float()).item())\n",
    "\n",
    "    # final forward pass\n",
    "    predictions = model(data)\n",
    "    \n",
    "    totalacc = 100*torch.mean(((predictions>.5) == label).float())    \n",
    "\n",
    "    return losses,predictions,totalacc,trainAcc"
   ]
  },
  {
   "cell_type": "code",
   "execution_count": 85,
   "id": "d3df6e64-fd3d-4df7-9762-5309acf0a651",
   "metadata": {},
   "outputs": [],
   "source": [
    "# a function that trains the model\n",
    "\n",
    "# a fixed parameter\n",
    "numepochs = 1000\n",
    "\n",
    "# With Mini Batches\n",
    "def trainTheModel(model, doBN=True):\n",
    "\n",
    "  # losses function and optimizer\n",
    "  lossfun = nn.BCEWithLogitsLoss()\n",
    "  optimizer = torch.optim.SGD(model.parameters(), lr=.01)\n",
    "\n",
    "  # initialize losses\n",
    "  losses = torch.zeros(numepochs)\n",
    "  trainAcc = []\n",
    "  testAcc = []\n",
    "\n",
    "  # loop over epochs\n",
    "  for epochi in range(numepochs):\n",
    "\n",
    "    # switch on training mode\n",
    "    model.train()\n",
    "\n",
    "    # loop over training data batches\n",
    "    batchAcc = []\n",
    "    batchLoss = []\n",
    "\n",
    "    for X,y in train_loader:\n",
    "\n",
    "      # forward pass and loss\n",
    "      yHat = model(X, doBN)\n",
    "      loss = lossfun(yHat,y)\n",
    "\n",
    "      # backprop\n",
    "      optimizer.zero_grad()\n",
    "      loss.backward()\n",
    "      optimizer.step()\n",
    "\n",
    "      # loss from this batch\n",
    "      batchLoss.append(loss.item())\n",
    "\n",
    "      # compute training accuracy for this batch\n",
    "      val = ((yHat > 0) == y).float()\n",
    "      mean = torch.mean(val).item()\n",
    "      batchAcc.append(100 * mean)\n",
    "\n",
    "    # get the avarage training accuracy\n",
    "    trainAcc.append(np.mean(batchAcc))\n",
    "\n",
    "    # get average losses accross the batches\n",
    "    losses[epochi] = np.mean(batchLoss)\n",
    "\n",
    "\n",
    "    # test accuracy\n",
    "    model.eval()\n",
    "    X,y = next(iter(test_loader)) # extract X,y from test dataloader\n",
    "    with torch.no_grad():\n",
    "      yHat = model(X, doBN)\n",
    "    testAcc.append(100*torch.mean(((yHat>0) == y).float()).item())\n",
    "\n",
    "  return trainAcc, testAcc, losses"
   ]
  },
  {
   "cell_type": "code",
   "execution_count": 86,
   "id": "bc0a28c2-5a3c-4095-8f0b-6e33150ab1a2",
   "metadata": {},
   "outputs": [
    {
     "name": "stdout",
     "output_type": "stream",
     "text": [
      "Final accuracy: 91.4%\n"
     ]
    },
    {
     "data": {
      "image/png": "[encoded data removed]",
      "text/plain": [
       "<Figure size 2000x700 with 2 Axes>"
      ]
     },
     "metadata": {},
     "output_type": "display_data"
    }
   ],
   "source": [
    "# Experiment with Simple data\n",
    "pccf_model = PCCFModelSimple()\n",
    "\n",
    "# run it\n",
    "losses,predictions,totalacc,trainAcc = trainTheModelSimple(pccf_model)\n",
    "\n",
    "\n",
    "# plot some results\n",
    "fig, ax = plt.subplots(1, 2, figsize=(20,7))\n",
    "\n",
    "ax[0].plot(losses.detach(),'o',markerfacecolor='w',linewidth=.1)\n",
    "ax[0].set_title('Loss')\n",
    "ax[0].set_xlabel('Epoch')\n",
    "ax[0].set_ylabel('Loss')\n",
    "\n",
    "ax[1].plot(trainAcc)\n",
    "ax[1].set_xlabel('Epoch')\n",
    "ax[1].set_ylabel('Train Accuracy')\n",
    "\n",
    "# report accuracy\n",
    "print('Final accuracy: %g%%' %totalacc)\n",
    "\n",
    "\n",
    "# # show the losses\n",
    "# plt.plot(losses.detach(),'o',markerfacecolor='w',linewidth=.1)\n",
    "# plt.xlabel('Epoch'), plt.ylabel('Loss')\n",
    "plt.show()"
   ]
  },
  {
   "cell_type": "markdown",
   "id": "6ad86bb2-bb12-40a6-b821-315fcba6d5c6",
   "metadata": {},
   "source": [
    "## Training"
   ]
  },
  {
   "cell_type": "code",
   "execution_count": null,
   "id": "cab12f74-480c-474d-8f68-903066e5833d",
   "metadata": {},
   "outputs": [],
   "source": [
    "# # # create and train a model NO BATCHNORM\n",
    "# model = PCCFModel()\n",
    "# trainAccNo,testAccNo,lossesNo = trainTheModel(model, doBN=False)\n",
    "\n",
    "\n",
    "# create and train a model WITH BATCHNORM\n",
    "model = PCCFModel()\n",
    "trainAccWith,testAccWith,lossesWith = trainTheModel(model, doBN=True)"
   ]
  },
  {
   "cell_type": "markdown",
   "id": "2be2e598-2de9-42df-a35f-7776163e461e",
   "metadata": {},
   "source": [
    "## Results"
   ]
  },
  {
   "cell_type": "code",
   "execution_count": null,
   "id": "afbbed05-3bdf-4c43-9277-04f0c09519cc",
   "metadata": {},
   "outputs": [],
   "source": [
    "# # plot the results\n",
    "fig,ax = plt.subplots(1,3,figsize=(17,5))\n",
    "\n",
    "ax[0].plot(lossesWith,label='WITH batchnorm')\n",
    "# ax[0].plot(lossesNo,label='NO batchnorm')\n",
    "ax[0].set_title('Losses')\n",
    "ax[0].legend()\n",
    "\n",
    "ax[1].plot(trainAccWith,label='WITH batchnorm')\n",
    "# ax[1].plot(trainAccNo,label='NO batchnorm')\n",
    "ax[1].set_title('Train accuracy')\n",
    "ax[1].legend()\n",
    "\n",
    "ax[2].plot(testAccWith,label='WITH batchnorm')\n",
    "# ax[2].plot(testAccNo,label='NO batchnorm')\n",
    "ax[2].set_title('Test accuracy')\n",
    "ax[2].legend()\n",
    "\n",
    "plt.show()"
   ]
  },
  {
   "cell_type": "code",
   "execution_count": null,
   "id": "d9684f21-41b0-42a3-bf5e-33fdf53d93f8",
   "metadata": {},
   "outputs": [],
   "source": []
  },
  {
   "cell_type": "code",
   "execution_count": null,
   "id": "692069bf-4e80-44b4-ba9b-876f8472efc3",
   "metadata": {},
   "outputs": [],
   "source": []
  },
  {
   "cell_type": "code",
   "execution_count": null,
   "id": "de74ba52-42b9-4af2-8e5f-fa9e2a8235e1",
   "metadata": {},
   "outputs": [],
   "source": []
  },
  {
   "cell_type": "code",
   "execution_count": null,
   "id": "67c34faf-2c22-4d43-9675-08f0906aca09",
   "metadata": {},
   "outputs": [],
   "source": []
  }
 ],
 "metadata": {
  "kernelspec": {
   "display_name": "Python 3 (ipykernel)",
   "language": "python",
   "name": "python3"
  },
  "language_info": {
   "codemirror_mode": {
    "name": "ipython",
    "version": 3
   },
   "file_extension": ".py",
   "mimetype": "text/x-python",
   "name": "python",
   "nbconvert_exporter": "python",
   "pygments_lexer": "ipython3",
   "version": "3.11.5"
  }
 },
 "nbformat": 4,
 "nbformat_minor": 5
}
