{
 "cells": [
  {
   "cell_type": "markdown",
   "id": "7a6c74ae",
   "metadata": {},
   "source": [
    "# Goal\n",
    "\n",
    "Prevent a credit card fraud: when a bad actor uses someone else's credit card information to make a purchase without their permission."
   ]
  },
  {
   "cell_type": "markdown",
   "id": "31851360",
   "metadata": {},
   "source": [
    "**Columns**:\n",
    "- **distance_from_home** - the distance from home where the transaction happened.\n",
    "- **distance_from_last_transaction** - the distance from last transaction happened.\n",
    "- **ratio_to_median_purchase_price** - Ratio of purchased price transaction to median purchase price.\n",
    "- **repeat_retailer** - Is the transaction happened from same retailer.\n",
    "- **used_chip** - Is the transaction through chip (credit card).\n",
    "- **used_pin_number** - Is the transaction happened by using PIN number.\n",
    "- **online_order** - Is the transaction an online order.\n",
    "- **fraud** - Is the transaction fraudulent. This is what we're trying to predict."
   ]
  },
  {
   "cell_type": "markdown",
   "id": "1f4934b1",
   "metadata": {},
   "source": [
    "# Imports"
   ]
  },
  {
   "cell_type": "markdown",
   "id": "a5a9d6a1",
   "metadata": {},
   "source": [
    "## libraries"
   ]
  },
  {
   "cell_type": "code",
   "execution_count": 1,
   "id": "b1f9b10c",
   "metadata": {},
   "outputs": [],
   "source": [
    "# number crunching\n",
    "import numpy as np\n",
    "import pandas as pd\n",
    "import scipy.stats as stats\n",
    "\n",
    "# PyTorch\n",
    "import torch\n",
    "import torch.nn as nn\n",
    "import torch.nn.functional as F\n",
    "from torch.utils.data import DataLoader, TensorDataset\n",
    "from sklearn.model_selection import train_test_split\n",
    "\n",
    "\n",
    "# validation\n",
    "# from sklearn.model_selection import cross_val_score, KFold, train_test_split\n",
    "# from sklearn.metrics import accuracy_score, confusion_matrix, classification_report\n",
    "\n"
   ]
  },
  {
   "cell_type": "markdown",
   "id": "9d754a05",
   "metadata": {},
   "source": [
    "## data"
   ]
  },
  {
   "cell_type": "code",
   "execution_count": 60,
   "id": "e690eaaf",
   "metadata": {},
   "outputs": [],
   "source": [
    "train = pd.read_csv(\"train.csv\")\n",
    "test = pd.read_csv(\"test.csv\")"
   ]
  },
  {
   "cell_type": "markdown",
   "id": "212c6060",
   "metadata": {},
   "source": [
    "---"
   ]
  },
  {
   "cell_type": "code",
   "execution_count": null,
   "id": "4594e442-85c7-4ffa-9386-571e299b67c0",
   "metadata": {},
   "outputs": [],
   "source": []
  }
 ],
 "metadata": {
  "kernelspec": {
   "display_name": "Python 3 (ipykernel)",
   "language": "python",
   "name": "python3"
  },
  "language_info": {
   "codemirror_mode": {
    "name": "ipython",
    "version": 3
   },
   "file_extension": ".py",
   "mimetype": "text/x-python",
   "name": "python",
   "nbconvert_exporter": "python",
   "pygments_lexer": "ipython3",
   "version": "3.11.5"
  }
 },
 "nbformat": 4,
 "nbformat_minor": 5
}
